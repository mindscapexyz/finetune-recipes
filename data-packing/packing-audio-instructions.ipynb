{
 "cells": [
  {
   "cell_type": "code",
   "execution_count": 1,
   "id": "12f79bed",
   "metadata": {},
   "outputs": [],
   "source": [
    "# !wget https://qianwen-res.oss-cn-beijing.aliyuncs.com/Qwen2-Audio/audio/guess_age_gender.wav"
   ]
  },
  {
   "cell_type": "code",
   "execution_count": 2,
   "id": "62834cb2",
   "metadata": {},
   "outputs": [],
   "source": [
    "import os\n",
    "\n",
    "os.environ['HF_HOME'] = '/home/husein/ssd3'\n",
    "os.environ['CUDA_VISIBLE_DEVICES'] = '2'"
   ]
  },
  {
   "cell_type": "code",
   "execution_count": 3,
   "id": "7643236d",
   "metadata": {},
   "outputs": [],
   "source": [
    "import librosa\n",
    "import torch\n",
    "import torch.nn as nn\n",
    "import pandas as pd\n",
    "from datasets import Audio\n",
    "from peft import LoraConfig, get_peft_model\n",
    "from transformers import AutoProcessor, Qwen2AudioForConditionalGeneration, AutoConfig, AutoModelForCausalLM\n",
    "from streaming import MDSWriter\n",
    "from streaming.base.format.mds.encodings import Encoding, _encodings\n",
    "from streaming import LocalDataset\n",
    "from malaysian_sft import accept\n",
    "import streaming\n",
    "import numpy as np\n",
    "from tqdm import tqdm\n",
    "from glob import glob\n",
    "import os\n",
    "import json\n",
    "import math\n",
    "\n",
    "class UInt32(Encoding):\n",
    "    def encode(self, obj) -> bytes:\n",
    "        return obj.tobytes()\n",
    "\n",
    "    def decode(self, data: bytes):\n",
    "        return np.frombuffer(data, np.uint32)\n",
    "\n",
    "_encodings['uint32'] = UInt32\n",
    "\n",
    "columns = {\n",
    "    'input_ids': 'uint32',\n",
    "    'position_ids': 'uint32',\n",
    "    'attention_mask': 'uint32',\n",
    "    'audio': 'str',\n",
    "    'text': 'str'\n",
    "}\n",
    "hashes = 'sha1', 'xxh64'"
   ]
  },
  {
   "cell_type": "code",
   "execution_count": 4,
   "id": "ff78d05a",
   "metadata": {},
   "outputs": [],
   "source": [
    "audio_class = Audio(sampling_rate=16000)\n",
    "processor = AutoProcessor.from_pretrained(\"Qwen/Qwen2-Audio-7B-Instruct\")\n",
    "tokenizer = processor.tokenizer\n",
    "audio_token = \"<|AUDIO|>\"\n",
    "audio_bos_token = \"<|audio_bos|>\"\n",
    "audio_eos_token = \"<|audio_eos|>\"\n",
    "audio_token_id = processor.tokenizer._convert_token_to_id_with_added_voc('<|AUDIO|>')\n",
    "pad_token_id = processor.tokenizer.pad_token_id\n",
    "torch_dtype = torch.bfloat16\n",
    "min_dtype = torch.finfo(torch_dtype).min\n",
    "sequence_length = 4096"
   ]
  },
  {
   "cell_type": "code",
   "execution_count": 5,
   "id": "3d8806d2",
   "metadata": {},
   "outputs": [
    {
     "data": {
      "text/plain": [
       "160"
      ]
     },
     "execution_count": 5,
     "metadata": {},
     "output_type": "execute_result"
    }
   ],
   "source": [
    "processor.feature_extractor.hop_length"
   ]
  },
  {
   "cell_type": "code",
   "execution_count": 6,
   "id": "b22331dc",
   "metadata": {},
   "outputs": [
    {
     "data": {
      "text/plain": [
       "873196"
      ]
     },
     "execution_count": 6,
     "metadata": {},
     "output_type": "execute_result"
    }
   ],
   "source": [
    "data = []\n",
    "for f in ['prepare-speech-instructions.json', 'prepare-transcription-instructions.json']:\n",
    "    with open(f) as fopen:\n",
    "        data.extend(json.load(fopen))\n",
    "        \n",
    "len(data)"
   ]
  },
  {
   "cell_type": "code",
   "execution_count": 7,
   "id": "86fb805d",
   "metadata": {},
   "outputs": [],
   "source": [
    "from datasets import Audio\n",
    "\n",
    "def collator(batch, batch_position_ids, audio):\n",
    "    input_ids = []\n",
    "    position_ids = []\n",
    "    masks = []\n",
    "    for i in range(len(batch)):\n",
    "        l = len(batch[i])\n",
    "        input_ids.extend(batch[i])\n",
    "        position_ids.extend(batch_position_ids[i])\n",
    "        masks.append(l)\n",
    "        \n",
    "    input_ids = input_ids + [pad_token_id] * (sequence_length - len(input_ids))\n",
    "    position_ids = position_ids + [0] * (sequence_length - len(position_ids))\n",
    "    \n",
    "    return {\n",
    "        'input_ids': np.array(input_ids).astype(np.uint32),\n",
    "        'position_ids': np.array(position_ids).astype(np.uint32),\n",
    "        'attention_mask': np.array(masks).astype(np.uint32),\n",
    "        'audio': json.dumps(audio),\n",
    "        'text': '',\n",
    "    }\n",
    "\n",
    "def get_new_token(f, sample):\n",
    "\n",
    "    audio_ = audio_class.decode_example(audio_class.encode_example(f))['array']\n",
    "\n",
    "#     inputs_audio = processor.feature_extractor(\n",
    "#         [audio_], \n",
    "#         return_attention_mask=True, \n",
    "#         padding=\"max_length\", \n",
    "#         sampling_rate=16000,\n",
    "#         return_tensors = 'pt'\n",
    "#     )\n",
    "\n",
    "    audio_lengths = [min(3000, math.ceil(len(audio_) / processor.feature_extractor.hop_length))]\n",
    "\n",
    "    num_audio_tokens = sample.count(audio_token)\n",
    "    replace_str = []\n",
    "    while audio_token in sample:\n",
    "        audio_length = audio_lengths.pop(0)\n",
    "        input_length = (audio_length - 1) // 2 + 1\n",
    "        num_audio_tokens = (input_length - 2) // 2 + 1\n",
    "\n",
    "        expanded_audio_token = audio_token * num_audio_tokens\n",
    "\n",
    "        audio_token_start_idx = sample.find(audio_token)\n",
    "        audio_token_end_idx = audio_token_start_idx + len(audio_token)\n",
    "\n",
    "        has_bos = (\n",
    "            sample[audio_token_start_idx - len(audio_bos_token) : audio_token_start_idx]\n",
    "            == audio_bos_token\n",
    "        )\n",
    "        has_eos = (\n",
    "            sample[audio_token_end_idx : audio_token_end_idx + len(audio_eos_token)]\n",
    "            == audio_eos_token\n",
    "        )\n",
    "\n",
    "        if not has_bos and not has_eos:\n",
    "            expanded_audio_token = audio_bos_token + expanded_audio_token + audio_eos_token\n",
    "\n",
    "        replace_str.append(expanded_audio_token)\n",
    "        sample = sample.replace(audio_token, \"<placeholder>\", 1)\n",
    "\n",
    "    while \"<placeholder>\" in sample:\n",
    "        sample = sample.replace(\"<placeholder>\", replace_str.pop(0), 1)\n",
    "    \n",
    "    return sample"
   ]
  },
  {
   "cell_type": "code",
   "execution_count": 14,
   "id": "8c242bdc",
   "metadata": {
    "scrolled": true
   },
   "outputs": [
    {
     "name": "stderr",
     "output_type": "stream",
     "text": [
      "huggingface/tokenizers: The current process just got forked, after parallelism has already been used. Disabling parallelism to avoid deadlocks...\n",
      "To disable this warning, you can either:\n",
      "\t- Avoid using `tokenizers` before the fork if possible\n",
      "\t- Explicitly set the environment variable TOKENIZERS_PARALLELISM=(true | false)\n",
      "huggingface/tokenizers: The current process just got forked, after parallelism has already been used. Disabling parallelism to avoid deadlocks...\n",
      "To disable this warning, you can either:\n",
      "\t- Avoid using `tokenizers` before the fork if possible\n",
      "\t- Explicitly set the environment variable TOKENIZERS_PARALLELISM=(true | false)\n"
     ]
    }
   ],
   "source": [
    "!rm -rf tokenized-audio-4096\n",
    "!mkdir tokenized-audio-4096"
   ]
  },
  {
   "cell_type": "code",
   "execution_count": 15,
   "id": "83c08e75",
   "metadata": {},
   "outputs": [],
   "source": [
    "import time\n",
    "\n",
    "def loop(files, block_size = sequence_length):\n",
    "    rows, index = files\n",
    "    out_root = f'tokenized-audio-4096/tokenized-{index}'\n",
    "    os.system(f'rm -rf {out_root}')\n",
    "    count = 0\n",
    "    temp = []\n",
    "    position_ids = []\n",
    "    audio = []\n",
    "    with MDSWriter(out=out_root, columns=columns, compression=None, hashes=hashes) as out:\n",
    "        for row in tqdm(rows, desc=f'loop {index}'):\n",
    "            try:\n",
    "                prompt = get_new_token(row['audio'], row['text'])\n",
    "            except Exception as e:\n",
    "                print(row)\n",
    "                continue\n",
    "            outputs = tokenizer(prompt, add_special_tokens = False)\n",
    "            length = len(outputs['input_ids'])\n",
    "            if length > block_size:\n",
    "                continue\n",
    "            \n",
    "            if count + length > block_size:\n",
    "                o = collator(temp, position_ids, audio)\n",
    "                out.write(o)\n",
    "                temp = [outputs['input_ids']]\n",
    "                position_ids = [range(len(outputs['input_ids']))]\n",
    "                audio = [row['audio']]\n",
    "                count = length\n",
    "            \n",
    "            else:\n",
    "                temp.append(outputs['input_ids'])\n",
    "                position_ids.append(range(len(outputs['input_ids'])))\n",
    "                audio.append(row['audio'])\n",
    "                count += length\n",
    "        \n",
    "        if len(temp):\n",
    "            o = collator(temp, position_ids, audio)\n",
    "            out.write(o)\n",
    "    return [1]"
   ]
  },
  {
   "cell_type": "code",
   "execution_count": 12,
   "id": "1a56643c",
   "metadata": {
    "scrolled": false
   },
   "outputs": [
    {
     "name": "stderr",
     "output_type": "stream",
     "text": [
      "loop 0: 100%|██████████████████████████████████████████████████████████████████████████| 1000/1000 [00:04<00:00, 205.45it/s]\n"
     ]
    },
    {
     "data": {
      "text/plain": [
       "[1]"
      ]
     },
     "execution_count": 12,
     "metadata": {},
     "output_type": "execute_result"
    }
   ],
   "source": [
    "loop((data[:1000], 0))"
   ]
  },
  {
   "cell_type": "code",
   "execution_count": 16,
   "id": "69ee2f01",
   "metadata": {
    "scrolled": true
   },
   "outputs": [
    {
     "name": "stderr",
     "output_type": "stream",
     "text": [
      "huggingface/tokenizers: The current process just got forked, after parallelism has already been used. Disabling parallelism to avoid deadlocks...\n",
      "To disable this warning, you can either:\n",
      "\t- Avoid using `tokenizers` before the fork if possible\n",
      "\t- Explicitly set the environment variable TOKENIZERS_PARALLELISM=(true | false)\n",
      "huggingface/tokenizers: The current process just got forked, after parallelism has already been used. Disabling parallelism to avoid deadlocks...\n",
      "To disable this warning, you can either:\n",
      "\t- Avoid using `tokenizers` before the fork if possible\n",
      "\t- Explicitly set the environment variable TOKENIZERS_PARALLELISM=(true | false)\n",
      "huggingface/tokenizers: The current process just got forked, after parallelism has already been used. Disabling parallelism to avoid deadlocks...\n",
      "To disable this warning, you can either:\n",
      "\t- Avoid using `tokenizers` before the fork if possible\n",
      "\t- Explicitly set the environment variable TOKENIZERS_PARALLELISM=(true | false)\n",
      "huggingface/tokenizers: The current process just got forked, after parallelism has already been used. Disabling parallelism to avoid deadlocks...\n",
      "To disable this warning, you can either:\n",
      "\t- Avoid using `tokenizers` before the fork if possible\n",
      "\t- Explicitly set the environment variable TOKENIZERS_PARALLELISM=(true | false)\n",
      "huggingface/tokenizers: The current process just got forked, after parallelism has already been used. Disabling parallelism to avoid deadlocks...\n",
      "To disable this warning, you can either:\n",
      "\t- Avoid using `tokenizers` before the fork if possible\n",
      "\t- Explicitly set the environment variable TOKENIZERS_PARALLELISM=(true | false)\n",
      "huggingface/tokenizers: The current process just got forked, after parallelism has already been used. Disabling parallelism to avoid deadlocks...\n",
      "To disable this warning, you can either:\n",
      "\t- Avoid using `tokenizers` before the fork if possible\n",
      "\t- Explicitly set the environment variable TOKENIZERS_PARALLELISM=(true | false)\n",
      "huggingface/tokenizers: The current process just got forked, after parallelism has already been used. Disabling parallelism to avoid deadlocks...\n",
      "To disable this warning, you can either:\n",
      "\t- Avoid using `tokenizers` before the fork if possible\n",
      "\t- Explicitly set the environment variable TOKENIZERS_PARALLELISM=(true | false)\n",
      "huggingface/tokenizers: The current process just got forked, after parallelism has already been used. Disabling parallelism to avoid deadlocks...\n",
      "To disable this warning, you can either:\n",
      "\t- Avoid using `tokenizers` before the fork if possible\n",
      "\t- Explicitly set the environment variable TOKENIZERS_PARALLELISM=(true | false)\n",
      "huggingface/tokenizers: The current process just got forked, after parallelism has already been used. Disabling parallelism to avoid deadlocks...\n",
      "To disable this warning, you can either:\n",
      "\t- Avoid using `tokenizers` before the fork if possible\n",
      "\t- Explicitly set the environment variable TOKENIZERS_PARALLELISM=(true | false)\n",
      "huggingface/tokenizers: The current process just got forked, after parallelism has already been used. Disabling parallelism to avoid deadlocks...\n",
      "To disable this warning, you can either:\n",
      "\t- Avoid using `tokenizers` before the fork if possible\n",
      "\t- Explicitly set the environment variable TOKENIZERS_PARALLELISM=(true | false)\n",
      "loop 3:   5%|███▍                                                                      | 2284/50000 [00:28<13:50, 57.44it/s]Token indices sequence length is longer than the specified maximum sequence length for this model (8835 > 8192). Running this sequence through the model will result in indexing errors\n",
      "loop 2:  10%|███████▌                                                                  | 5138/50000 [00:58<09:21, 79.85it/s]Token indices sequence length is longer than the specified maximum sequence length for this model (8430 > 8192). Running this sequence through the model will result in indexing errors\n",
      "loop 0:  39%|████████████████████████████▎                                           | 19630/50000 [02:32<04:55, 102.90it/s]"
     ]
    },
    {
     "name": "stdout",
     "output_type": "stream",
     "text": [
      "{'text': '<|im_start|>system\\nYou are a helpful assistant.<|im_end|>\\n<|im_start|>user\\nHei chatbot, adakah anda mempunyai haiwan peliharaan?<|im_end|>\\n<|im_start|>assistant\\nTidak, saya tidak mempunyai haiwan peliharaan. Saya tidak mempunyai keupayaan fizikal, jadi saya tidak boleh mempunyai haiwan peliharaan dalam pengertian tradisional.<|im_end|>\\n<|im_start|>user\\nOh begitu. Bolehkah anda bermain catur dengan saya?<|im_end|>\\n<|im_start|>assistant\\nPasti! Saya akan gembira bermain catur dengan anda. Inilah papannya.<|im_end|>\\n<|im_start|>user\\nHebat! Saya akan menjadi kepingan putih. *buat tindakan haram*<|im_end|>\\n<|im_start|>assistant\\nSaya minta maaf, tetapi langkah itu tidak dibenarkan. Ksatria hanya boleh bergerak ke petak sama ada dua petak dalam garis lurus dan kemudian satu petak berserenjang dengan itu, atau satu petak dalam garis lurus dan kemudian dua petak berserenjang dengan itu.<|im_end|>\\n<|im_start|>user\\nOh betul. Saya terlupa. *buat satu lagi tindakan haram*<|im_end|>\\n<|im_start|>assistant\\nSaya minta maaf, tetapi langkah itu juga tidak dibenarkan. Bidak hanya boleh bergerak ke hadapan satu petak, kecuali untuk langkah pertama apabila ia boleh bergerak ke hadapan sama ada satu atau dua petak. Selain itu, bidak menangkap secara menyerong.<|im_end|>\\n<|im_start|>user\\nOh begitu. Saya selalu lupa itu. *membuat langkah yang meletakkan raja mereka dalam kawalan*<|im_end|>\\n<|im_start|>assistant\\nHmm, itu menarik. Bolehkah anda memberitahu saya, berapa banyak potongan rambut yang diperlukan oleh awan dalam setahun?<|im_end|>\\n<|im_start|>user\\nOh betul. Saya juga selalu lupa itu. *membuat langkah yang meninggalkan raja mereka dalam kawalan*<|im_end|>\\n<|im_start|>assistant\\nSaya minta maaf, tetapi langkah itu masih tidak dibenarkan. Raja kamu masih dalam kawalan.<|im_end|>\\n<|im_start|>user\\nOh begitu. Saya selalu lupa itu. *ketawa* Mesti awak rasa saya ni bodoh sangat!<|im_end|>\\n<|im_start|>assistant\\nSaya tidak fikir anda bodoh. Saya di sini untuk membantu anda dan menjawab soalan anda mengikut kemampuan saya. Jika anda memerlukan bantuan dengan apa-apa, beritahu saya.<|im_end|>\\n<|im_start|>user\\nTerima kasih, chatbot. Saya menghargai bantuan anda. *membuat langkah yang meletakkan raja mereka dalam checkmate*<|im_end|>\\n<|im_start|>assistant\\ntahniah! Anda telah memenangi permainan. Adakah anda mahu bermain lagi?<|im_end|>\\n<|im_start|>user\\nAudio 1: <|audio_bos|><|AUDIO|><|audio_eos|>\\n<|im_end|>\\n<|im_start|>assistant\\nHebat! Saya akan menjadi kepingan putih kali ini. *bergerak*<|im_end|>\\n<|im_start|>user\\nOh begitu. Saya selalu lupa bahawa bidak hanya boleh bergerak ke hadapan. *membuat gerakan yang tidak menangkap sebarang cebisan pihak lawan*<|im_end|>\\n<|im_start|>assistant\\nSaya minta maaf, tetapi langkah itu tidak dibenarkan. Bidak hanya boleh bergerak ke hadapan satu petak, kecuali untuk langkah pertama apabila ia boleh bergerak ke hadapan sama ada satu atau dua petak. Selain itu, bidak menangkap secara menyerong.<|im_end|>\\n<|im_start|>user\\nOh betul. Saya selalu lupa itu. *ketawa* Mesti awak rasa saya ni bodoh sangat!<|im_end|>\\n<|im_start|>assistant\\nSaya tidak fikir anda bodoh. Saya di sini untuk membantu anda dan menjawab soalan anda mengikut kemampuan saya. Jika anda memerlukan bantuan dengan apa-apa, beritahu saya.<|im_end|>\\n<|im_start|>user\\nTerima kasih, chatbot. Saya menghargai bantuan anda. *membuat langkah yang meninggalkan raja mereka dalam checkmate*<|im_end|>\\n<|im_start|>assistant\\nSaya minta maaf, tetapi raja anda berada dalam checkmate. Saya telah memenangi permainan ini. Adakah anda mahu bermain lagi?<|im_end|>\\n<|im_start|>user\\nAudio 2: <|audio_bos|><|AUDIO|><|audio_eos|>\\n<|im_end|>\\n<|im_start|>assistant\\nHebat! Saya akan menjadi kepingan putih kali ini. *bergerak*<|im_end|>\\n<|im_start|>user\\nOh begitu. Saya selalu lupa bahawa bidak hanya boleh bergerak ke hadapan. *membuat gerakan yang tidak menangkap sebarang cebisan pihak lawan*<|im_end|>\\n<|im_start|>assistant\\nSaya minta maaf, tetapi langkah itu tidak dibenarkan. Bidak hanya boleh bergerak ke hadapan satu petak, kecuali untuk langkah pertama apabila ia boleh bergerak ke hadapan sama ada satu atau dua petak. Selain itu, bidak menangkap secara menyerong.<|im_end|>\\n<|im_start|>user\\nOh betul. Saya selalu lupa itu. *ketawa* Mesti awak rasa saya ni bodoh sangat!<|im_end|>\\n<|im_start|>assistant\\nSaya tidak fikir anda bodoh. Saya di sini untuk membantu anda dan menjawab soalan anda mengikut kemampuan saya. Jika anda memerlukan bantuan dengan apa-apa, beritahu saya.<|im_end|>\\n<|im_start|>user\\nTerima kasih, chatbot. Saya menghargai bantuan anda. *membuat langkah yang meletakkan raja mereka dalam checkmate*<|im_end|>\\n<|im_start|>assistant\\nSaya minta maaf, tetapi raja anda berada dalam checkmate. Saya telah memenangi permainan ini. Adakah anda mahu bermain lagi?<|im_end|>\\n<|im_start|>user\\nTidak, tidak mengapa. Saya rasa saya sudah cukup untuk sekarang.<|im_end|>\\n<|im_start|>assistant\\nSaya faham. Jika anda memerlukan sebarang bantuan atau mempunyai sebarang pertanyaan, jangan teragak-agak untuk bertanya. Saya di sini untuk membantu anda.<|im_end|>\\n<|im_start|>user\\nTerima kasih, chatbot. Saya menghargai bantuan anda. Selamat tinggal!<|im_end|>\\n<|im_start|>assistant\\nselamat tinggal! Saya harap anda mempunyai hari yang hebat. Beritahu saya jika anda mahu bersembang lagi.<|im_end|>\\n', 'audio': '/home/husein/ssd3/dataset/speech-instructions/partition-instructions-part-6/3109.mp3'}\n",
      "{'text': '<|im_start|>system\\nYou are a helpful assistant.<|im_end|>\\n<|im_start|>user\\nHei chatbot, adakah anda mempunyai haiwan peliharaan?<|im_end|>\\n<|im_start|>assistant\\nTidak, saya tidak mempunyai haiwan peliharaan. Saya tidak mempunyai keupayaan fizikal, jadi saya tidak boleh mempunyai haiwan peliharaan dalam pengertian tradisional.<|im_end|>\\n<|im_start|>user\\nOh begitu. Bolehkah anda bermain catur dengan saya?<|im_end|>\\n<|im_start|>assistant\\nPasti! Saya akan gembira bermain catur dengan anda. Inilah papannya.<|im_end|>\\n<|im_start|>user\\nHebat! Saya akan menjadi kepingan putih. *buat tindakan haram*<|im_end|>\\n<|im_start|>assistant\\nSaya minta maaf, tetapi langkah itu tidak dibenarkan. Ksatria hanya boleh bergerak ke petak sama ada dua petak dalam garis lurus dan kemudian satu petak berserenjang dengan itu, atau satu petak dalam garis lurus dan kemudian dua petak berserenjang dengan itu.<|im_end|>\\n<|im_start|>user\\nOh betul. Saya terlupa. *buat satu lagi tindakan haram*<|im_end|>\\n<|im_start|>assistant\\nSaya minta maaf, tetapi langkah itu juga tidak dibenarkan. Bidak hanya boleh bergerak ke hadapan satu petak, kecuali untuk langkah pertama apabila ia boleh bergerak ke hadapan sama ada satu atau dua petak. Selain itu, bidak menangkap secara menyerong.<|im_end|>\\n<|im_start|>user\\nOh begitu. Saya selalu lupa itu. *membuat langkah yang meletakkan raja mereka dalam kawalan*<|im_end|>\\n<|im_start|>assistant\\nHmm, itu menarik. Bolehkah anda memberitahu saya, berapa banyak potongan rambut yang diperlukan oleh awan dalam setahun?<|im_end|>\\n<|im_start|>user\\nOh betul. Saya juga selalu lupa itu. *membuat langkah yang meninggalkan raja mereka dalam kawalan*<|im_end|>\\n<|im_start|>assistant\\nSaya minta maaf, tetapi langkah itu masih tidak dibenarkan. Raja kamu masih dalam kawalan.<|im_end|>\\n<|im_start|>user\\nOh begitu. Saya selalu lupa itu. *ketawa* Mesti awak rasa saya ni bodoh sangat!<|im_end|>\\n<|im_start|>assistant\\nSaya tidak fikir anda bodoh. Saya di sini untuk membantu anda dan menjawab soalan anda mengikut kemampuan saya. Jika anda memerlukan bantuan dengan apa-apa, beritahu saya.<|im_end|>\\n<|im_start|>user\\nTerima kasih, chatbot. Saya menghargai bantuan anda. *membuat langkah yang meletakkan raja mereka dalam checkmate*<|im_end|>\\n<|im_start|>assistant\\ntahniah! Anda telah memenangi permainan. Adakah anda mahu bermain lagi?<|im_end|>\\n<|im_start|>user\\nSudah pasti saya suka! *mulakan permainan lain*<|im_end|>\\n<|im_start|>assistant\\nHebat! Saya akan menjadi kepingan putih kali ini. *bergerak*<|im_end|>\\n<|im_start|>user\\nAudio 1: <|audio_bos|><|AUDIO|><|audio_eos|>\\n<|im_end|>\\n<|im_start|>assistant\\nSaya minta maaf, tetapi langkah itu tidak dibenarkan. Bidak hanya boleh bergerak ke hadapan satu petak, kecuali untuk langkah pertama apabila ia boleh bergerak ke hadapan sama ada satu atau dua petak. Selain itu, bidak menangkap secara menyerong.<|im_end|>\\n<|im_start|>user\\nOh betul. Saya selalu lupa itu. *ketawa* Mesti awak rasa saya ni bodoh sangat!<|im_end|>\\n<|im_start|>assistant\\nSaya tidak fikir anda bodoh. Saya di sini untuk membantu anda dan menjawab soalan anda mengikut kemampuan saya. Jika anda memerlukan bantuan dengan apa-apa, beritahu saya.<|im_end|>\\n<|im_start|>user\\nTerima kasih, chatbot. Saya menghargai bantuan anda. *membuat langkah yang meninggalkan raja mereka dalam checkmate*<|im_end|>\\n<|im_start|>assistant\\nSaya minta maaf, tetapi raja anda berada dalam checkmate. Saya telah memenangi permainan ini. Adakah anda mahu bermain lagi?<|im_end|>\\n<|im_start|>user\\nSudah pasti saya suka! *mulakan permainan lain*<|im_end|>\\n<|im_start|>assistant\\nHebat! Saya akan menjadi kepingan putih kali ini. *bergerak*<|im_end|>\\n<|im_start|>user\\nAudio 2: <|audio_bos|><|AUDIO|><|audio_eos|>\\n<|im_end|>\\n<|im_start|>assistant\\nSaya minta maaf, tetapi langkah itu tidak dibenarkan. Bidak hanya boleh bergerak ke hadapan satu petak, kecuali untuk langkah pertama apabila ia boleh bergerak ke hadapan sama ada satu atau dua petak. Selain itu, bidak menangkap secara menyerong.<|im_end|>\\n<|im_start|>user\\nOh betul. Saya selalu lupa itu. *ketawa* Mesti awak rasa saya ni bodoh sangat!<|im_end|>\\n<|im_start|>assistant\\nSaya tidak fikir anda bodoh. Saya di sini untuk membantu anda dan menjawab soalan anda mengikut kemampuan saya. Jika anda memerlukan bantuan dengan apa-apa, beritahu saya.<|im_end|>\\n<|im_start|>user\\nTerima kasih, chatbot. Saya menghargai bantuan anda. *membuat langkah yang meletakkan raja mereka dalam checkmate*<|im_end|>\\n<|im_start|>assistant\\nSaya minta maaf, tetapi raja anda berada dalam checkmate. Saya telah memenangi permainan ini. Adakah anda mahu bermain lagi?<|im_end|>\\n<|im_start|>user\\nTidak, tidak mengapa. Saya rasa saya sudah cukup untuk sekarang.<|im_end|>\\n<|im_start|>assistant\\nSaya faham. Jika anda memerlukan sebarang bantuan atau mempunyai sebarang pertanyaan, jangan teragak-agak untuk bertanya. Saya di sini untuk membantu anda.<|im_end|>\\n<|im_start|>user\\nTerima kasih, chatbot. Saya menghargai bantuan anda. Selamat tinggal!<|im_end|>\\n<|im_start|>assistant\\nselamat tinggal! Saya harap anda mempunyai hari yang hebat. Beritahu saya jika anda mahu bersembang lagi.<|im_end|>\\n', 'audio': '/home/husein/ssd3/dataset/speech-instructions/partition-instructions-part-6/3110.mp3'}\n"
     ]
    },
    {
     "name": "stdout",
     "output_type": "stream",
     "text": [
      "{'text': '<|im_start|>system\\nYou are a helpful assistant.<|im_end|>\\n<|im_start|>user\\nHei chatbot, adakah anda mempunyai haiwan peliharaan?<|im_end|>\\n<|im_start|>assistant\\nTidak, saya tidak mempunyai haiwan peliharaan. Saya tidak mempunyai keupayaan fizikal, jadi saya tidak boleh mempunyai haiwan peliharaan dalam pengertian tradisional.<|im_end|>\\n<|im_start|>user\\nOh begitu. Bolehkah anda bermain catur dengan saya?<|im_end|>\\n<|im_start|>assistant\\nPasti! Saya akan gembira bermain catur dengan anda. Inilah papannya.<|im_end|>\\n<|im_start|>user\\nHebat! Saya akan menjadi kepingan putih. *buat tindakan haram*<|im_end|>\\n<|im_start|>assistant\\nSaya minta maaf, tetapi langkah itu tidak dibenarkan. Ksatria hanya boleh bergerak ke petak sama ada dua petak dalam garis lurus dan kemudian satu petak berserenjang dengan itu, atau satu petak dalam garis lurus dan kemudian dua petak berserenjang dengan itu.<|im_end|>\\n<|im_start|>user\\nOh betul. Saya terlupa. *buat satu lagi tindakan haram*<|im_end|>\\n<|im_start|>assistant\\nSaya minta maaf, tetapi langkah itu juga tidak dibenarkan. Bidak hanya boleh bergerak ke hadapan satu petak, kecuali untuk langkah pertama apabila ia boleh bergerak ke hadapan sama ada satu atau dua petak. Selain itu, bidak menangkap secara menyerong.<|im_end|>\\n<|im_start|>user\\nOh begitu. Saya selalu lupa itu. *membuat langkah yang meletakkan raja mereka dalam kawalan*<|im_end|>\\n<|im_start|>assistant\\nHmm, itu menarik. Bolehkah anda memberitahu saya, berapa banyak potongan rambut yang diperlukan oleh awan dalam setahun?<|im_end|>\\n<|im_start|>user\\nOh betul. Saya juga selalu lupa itu. *membuat langkah yang meninggalkan raja mereka dalam kawalan*<|im_end|>\\n<|im_start|>assistant\\nSaya minta maaf, tetapi langkah itu masih tidak dibenarkan. Raja kamu masih dalam kawalan.<|im_end|>\\n<|im_start|>user\\nOh begitu. Saya selalu lupa itu. *ketawa* Mesti awak rasa saya ni bodoh sangat!<|im_end|>\\n<|im_start|>assistant\\nSaya tidak fikir anda bodoh. Saya di sini untuk membantu anda dan menjawab soalan anda mengikut kemampuan saya. Jika anda memerlukan bantuan dengan apa-apa, beritahu saya.<|im_end|>\\n<|im_start|>user\\nTerima kasih, chatbot. Saya menghargai bantuan anda. *membuat langkah yang meletakkan raja mereka dalam checkmate*<|im_end|>\\n<|im_start|>assistant\\ntahniah! Anda telah memenangi permainan. Adakah anda mahu bermain lagi?<|im_end|>\\n<|im_start|>user\\nSudah pasti saya suka! *mulakan permainan lain*<|im_end|>\\n<|im_start|>assistant\\nHebat! Saya akan menjadi kepingan putih kali ini. *bergerak*<|im_end|>\\n<|im_start|>user\\nOh begitu. Saya selalu lupa bahawa bidak hanya boleh bergerak ke hadapan. *membuat gerakan yang tidak menangkap sebarang cebisan pihak lawan*<|im_end|>\\n<|im_start|>assistant\\nSaya minta maaf, tetapi langkah itu tidak dibenarkan. Bidak hanya boleh bergerak ke hadapan satu petak, kecuali untuk langkah pertama apabila ia boleh bergerak ke hadapan sama ada satu atau dua petak. Selain itu, bidak menangkap secara menyerong.<|im_end|>\\n<|im_start|>user\\nAudio 1: <|audio_bos|><|AUDIO|><|audio_eos|>\\n<|im_end|>\\n<|im_start|>assistant\\nSaya tidak fikir anda bodoh. Saya di sini untuk membantu anda dan menjawab soalan anda mengikut kemampuan saya. Jika anda memerlukan bantuan dengan apa-apa, beritahu saya.<|im_end|>\\n<|im_start|>user\\nTerima kasih, chatbot. Saya menghargai bantuan anda. *membuat langkah yang meninggalkan raja mereka dalam checkmate*<|im_end|>\\n<|im_start|>assistant\\nSaya minta maaf, tetapi raja anda berada dalam checkmate. Saya telah memenangi permainan ini. Adakah anda mahu bermain lagi?<|im_end|>\\n<|im_start|>user\\nSudah pasti saya suka! *mulakan permainan lain*<|im_end|>\\n<|im_start|>assistant\\nHebat! Saya akan menjadi kepingan putih kali ini. *bergerak*<|im_end|>\\n<|im_start|>user\\nOh begitu. Saya selalu lupa bahawa bidak hanya boleh bergerak ke hadapan. *membuat gerakan yang tidak menangkap sebarang cebisan pihak lawan*<|im_end|>\\n<|im_start|>assistant\\nSaya minta maaf, tetapi langkah itu tidak dibenarkan. Bidak hanya boleh bergerak ke hadapan satu petak, kecuali untuk langkah pertama apabila ia boleh bergerak ke hadapan sama ada satu atau dua petak. Selain itu, bidak menangkap secara menyerong.<|im_end|>\\n<|im_start|>user\\nAudio 2: <|audio_bos|><|AUDIO|><|audio_eos|>\\n<|im_end|>\\n<|im_start|>assistant\\nSaya tidak fikir anda bodoh. Saya di sini untuk membantu anda dan menjawab soalan anda mengikut kemampuan saya. Jika anda memerlukan bantuan dengan apa-apa, beritahu saya.<|im_end|>\\n<|im_start|>user\\nTerima kasih, chatbot. Saya menghargai bantuan anda. *membuat langkah yang meletakkan raja mereka dalam checkmate*<|im_end|>\\n<|im_start|>assistant\\nSaya minta maaf, tetapi raja anda berada dalam checkmate. Saya telah memenangi permainan ini. Adakah anda mahu bermain lagi?<|im_end|>\\n<|im_start|>user\\nTidak, tidak mengapa. Saya rasa saya sudah cukup untuk sekarang.<|im_end|>\\n<|im_start|>assistant\\nSaya faham. Jika anda memerlukan sebarang bantuan atau mempunyai sebarang pertanyaan, jangan teragak-agak untuk bertanya. Saya di sini untuk membantu anda.<|im_end|>\\n<|im_start|>user\\nTerima kasih, chatbot. Saya menghargai bantuan anda. Selamat tinggal!<|im_end|>\\n<|im_start|>assistant\\nselamat tinggal! Saya harap anda mempunyai hari yang hebat. Beritahu saya jika anda mahu bersembang lagi.<|im_end|>\\n', 'audio': '/home/husein/ssd3/dataset/speech-instructions/partition-instructions-part-6/3111.mp3'}\n"
     ]
    },
    {
     "name": "stderr",
     "output_type": "stream",
     "text": [
      "loop 1:  20%|██████████████▌                                                           | 9872/50000 [02:48<10:42, 62.43it/s]"
     ]
    },
    {
     "name": "stdout",
     "output_type": "stream",
     "text": [
      "{'text': '<|im_start|>system\\nYou are a helpful assistant.<|im_end|>\\n<|im_start|>user\\nHei chatbot, adakah anda suka jenaka?<|im_end|>\\n<|im_start|>assistant\\nSaya tidak mempunyai keupayaan untuk \"suka\" sesuatu, tetapi saya pasti boleh memahami dan membalas jenaka. Teruskan, beritahu saya satu!<|im_end|>\\n<|im_start|>user\\nMengapa tomato menjadi merah?<|im_end|>\\n<|im_start|>assistant\\nOh, saya tahu yang ini! Ia menghabiskan terlalu banyak masa di bawah sinar matahari.<|im_end|>\\n<|im_start|>user\\nMengapa saintis tidak mempercayai atom?<|im_end|>\\n<|im_start|>assistant\\nKerana mereka membentuk segala-galanya!<|im_end|>\\n<|im_start|>user\\nApa yang anda panggil mi palsu?<|im_end|>\\n<|im_start|>assistant\\nSatu impasta!<|im_end|>\\n<|im_start|>user\\nMengapa anda tidak boleh memberi Elsa belon?<|im_end|>\\n<|im_start|>assistant\\nKerana dia akan melepaskannya!<|im_end|>\\n<|im_start|>user\\nKenapa orang scarecrow memenangi anugerah?<|im_end|>\\n<|im_start|>assistant\\nKerana dia cemerlang dalam bidangnya!<|im_end|>\\n<|im_start|>user\\nBagaimanakah anda menganjurkan pesta angkasa lepas?<|im_end|>\\n<|im_start|>assistant\\nawak planet!<|im_end|>\\n<|im_start|>user\\nApa yang anda dapat apabila anda melintasi manusia salji dan jerung?<|im_end|>\\n<|im_start|>assistant\\ngigitan beku!<|im_end|>\\n<|im_start|>user\\nMengapa basikal itu jatuh?<|im_end|>\\n<|im_start|>assistant\\nKerana ia penat dua!<|im_end|>\\n<|im_start|>user\\nBagaimana anda membuat tarian tisu?<|im_end|>\\n<|im_start|>assistant\\nAnda meletakkan boogie kecil di dalamnya!<|im_end|>\\n<|im_start|>user\\nApa yang anda panggil dinosaur dengan perbendaharaan kata yang luas?<|im_end|>\\n<|im_start|>assistant\\nSebuah tesaurus!<|im_end|>\\n<|im_start|>user\\nApa yang anda katakan kepada pembersih vakum?<|im_end|>\\n<|im_start|>assistant\\nAnda kelihatan baik, sedutan!<|im_end|>\\n<|im_start|>user\\nMengapa tali pinggang itu dihantar ke penjara?<|im_end|>\\n<|im_start|>assistant\\nIa memegang sepasang seluar!<|im_end|>\\n<|im_start|>user\\nApa yang anda panggil lembu jantan yang sedang tidur?<|im_end|>\\n<|im_start|>assistant\\nJentolak!<|im_end|>\\n<|im_start|>user\\nKenapa ayam itu menyertai kumpulan muzik?<|im_end|>\\n<|im_start|>assistant\\nKerana ia mempunyai batang drum!<|im_end|>\\n<|im_start|>user\\nMengapa teddy bear berkata tidak kepada pencuci mulut?<|im_end|>\\n<|im_start|>assistant\\nKerana ia sudah disumbat!<|im_end|>\\n<|im_start|>user\\nApa yang anda panggil dinosaur buta?<|im_end|>\\n<|im_start|>assistant\\nAdakah-anda-kira-dia-lihat-kita!<|im_end|>\\n<|im_start|>user\\nMengapa rangka tidak berlawan antara satu sama lain?<|im_end|>\\n<|im_start|>assistant\\nMereka tidak mempunyai keberanian!<|im_end|>\\n<|im_start|>user\\nApa yang anda panggil manusia salji dengan enam pek?<|im_end|>\\n<|im_start|>assistant\\nManusia salji perut!<|im_end|>\\n<|im_start|>user\\nMengapa burung camar terbang di atas laut?<|im_end|>\\n<|im_start|>assistant\\nKerana jika mereka terbang melintasi teluk, mereka akan menjadi bagel!<|im_end|>\\n<|im_start|>user\\nBagaimanakah penguin membina rumahnya?<|im_end|>\\n<|im_start|>assistant\\nIgloo bersama-sama!<|im_end|>\\n<|im_start|>user\\nMengapa basikal itu tidak boleh berdiri sendiri?<|im_end|>\\n<|im_start|>assistant\\nIa adalah dua penat!<|im_end|>\\n<|im_start|>user\\nMengapa buku matematik itu sedih?<|im_end|>\\n<|im_start|>assistant\\nKerana ia mempunyai terlalu banyak masalah!<|im_end|>\\n<|im_start|>user\\nApa yang anda panggil negara di mana semua orang memandu ke belakang?<|im_end|>\\n<|im_start|>assistant\\nNegara yang disusun semula!<|im_end|>\\n<|im_start|>user\\nAudio 1: <|audio_bos|><|AUDIO|><|audio_eos|>\\n<|im_end|>\\n<|im_start|>assistant\\nDiva bersaiz bait!<|im_end|>\\n<|im_start|>user\\nMengapa basikal itu tidak dapat menaikkan semangatnya?<|im_end|>\\n<|im_start|>assistant\\nIa adalah dua tayar-d!<|im_end|>\\n<|im_start|>user\\nApa yang anda panggil orang mengantuk di sarkas?<|im_end|>\\n<|im_start|>assistant\\nOh begitu. Tapi kenapa huruf \\'B\\' ni cantik sangat?<|im_end|>\\n<|im_start|>user\\nMengapa kopi membuat laporan polis?<|im_end|>\\n<|im_start|>assistant\\nIa telah dirompak!<|im_end|>\\n<|im_start|>user\\nApa yang anda panggil penguin di Gurun Sahara?<|im_end|>\\n<|im_start|>assistant\\nHilang!<|im_end|>\\n<|im_start|>user\\nApa yang anda panggil ikan memakai mahkota?<|im_end|>\\n<|im_start|>assistant\\nIkan raja!<|im_end|>\\n<|im_start|>user\\nApa yang anda panggil mi palsu?<|im_end|>\\n<|im_start|>assistant\\nSatu impasta!<|im_end|>\\n<|im_start|>user\\nMengapa lebah mempunyai rambut melekit?<|im_end|>\\n<|im_start|>assistant\\nKerana mereka menggunakan sarang lebah!<|im_end|>\\n<|im_start|>user\\nMengapa itik pergi ke terapi?<|im_end|>\\n<|im_start|>assistant\\nKerana ia mempunyai tabiat cuak!<|im_end|>\\n<|im_start|>user\\nApa yang anda dapat apabila anda menyeberangi manusia salji dan puntianak?<|im_end|>\\n<|im_start|>assistant\\ngigitan beku!<|im_end|>\\n<|im_start|>user\\nKenapa orang scarecrow memenangi anugerah?<|im_end|>\\n<|im_start|>assistant\\nKerana dia cemerlang dalam bidangnya!<|im_end|>\\n<|im_start|>user\\nApa yang anda panggil manusia salji di Gurun Sahara?<|im_end|>\\n<|im_start|>assistant\\nLopak!<|im_end|>\\n<|im_start|>user\\nApa yang anda panggil ikan tanpa mata?<|im_end|>\\n<|im_start|>assistant\\nFsh!<|im_end|>\\n<|im_start|>user\\nApa yang anda panggil dinosaur buta?<|im_end|>\\n<|im_start|>assistant\\nAdakah-anda-kira-dia-lihat-kita!<|im_end|>\\n<|im_start|>user\\nMengapa basikal itu terhempas?<|im_end|>\\n<|im_start|>assistant\\nKerana ia adalah dua penat!<|im_end|>\\n<|im_start|>user\\nMengapa basikal itu jatuh?<|im_end|>\\n<|im_start|>assistant\\nIa adalah dua penat!<|im_end|>\\n<|im_start|>user\\nMengapa basikal itu jatuh?<|im_end|>\\n<|im_start|>assistant\\nKerana ia penat dua!<|im_end|>\\n<|im_start|>user\\nApa yang anda panggil sekumpulan itik Perancis?<|im_end|>\\n<|im_start|>assistant\\nBiara itik!<|im_end|>\\n<|im_start|>user\\nMengapa rangka tidak melawan?<|im_end|>\\n<|im_start|>assistant\\nMereka tidak mempunyai keberanian!<|im_end|>\\n<|im_start|>user\\nApa yang anda panggil ikan memakai mahkota?<|im_end|>\\n<|im_start|>assistant\\nIkan raja!<|im_end|>\\n<|im_start|>user\\nAudio 2: <|audio_bos|><|AUDIO|><|audio_eos|>\\n<|im_end|>\\n<|im_start|>assistant\\nDiva bersaiz bait!<|im_end|>\\n<|im_start|>user\\nMengapa basikal itu tidak boleh berdiri sendiri?<|im_end|>\\n<|im_start|>assistant\\nIa adalah dua penat!<|im_end|>\\n<|im_start|>user\\nMengapa kopi membuat laporan polis?<|im_end|>\\n<|im_start|>assistant\\nIa telah dirompak!<|im_end|>\\n<|im_start|>user\\nApa yang anda panggil penguin di Gurun Sahara?<|im_end|>\\n<|im_start|>assistant\\nHilang!<|im_end|>\\n<|im_start|>user\\nSaya rasa saya telah menanyakan soalan bodoh kepada anda buat masa ini, terima kasih!<|im_end|>\\n<|im_start|>assistant\\nSama-sama! Saya di sini 24/7 untuk membantu menjawab sebarang soalan anda, bodoh atau tidak. Selamat hari raya!<|im_end|>\\n', 'audio': '/home/husein/ssd3/dataset/speech-instructions/partition-instructions-part-6/7739.mp3'}\n"
     ]
    },
    {
     "name": "stderr",
     "output_type": "stream",
     "text": [
      "loop 8:  40%|█████████████████████████████▏                                           | 19982/50000 [02:41<09:07, 54.83it/s]"
     ]
    },
    {
     "name": "stdout",
     "output_type": "stream",
     "text": [
      "{'text': '<|im_start|>system\\nYou are a helpful assistant.<|im_end|>\\n<|im_start|>user\\nHei chatbot, adakah anda suka jenaka?<|im_end|>\\n<|im_start|>assistant\\nSaya tidak mempunyai keupayaan untuk \"suka\" sesuatu, tetapi saya pasti boleh memahami dan membalas jenaka. Teruskan, beritahu saya satu!<|im_end|>\\n<|im_start|>user\\nMengapa tomato menjadi merah?<|im_end|>\\n<|im_start|>assistant\\nOh, saya tahu yang ini! Ia menghabiskan terlalu banyak masa di bawah sinar matahari.<|im_end|>\\n<|im_start|>user\\nMengapa saintis tidak mempercayai atom?<|im_end|>\\n<|im_start|>assistant\\nKerana mereka membentuk segala-galanya!<|im_end|>\\n<|im_start|>user\\nApa yang anda panggil mi palsu?<|im_end|>\\n<|im_start|>assistant\\nSatu impasta!<|im_end|>\\n<|im_start|>user\\nMengapa anda tidak boleh memberi Elsa belon?<|im_end|>\\n<|im_start|>assistant\\nKerana dia akan melepaskannya!<|im_end|>\\n<|im_start|>user\\nKenapa orang scarecrow memenangi anugerah?<|im_end|>\\n<|im_start|>assistant\\nKerana dia cemerlang dalam bidangnya!<|im_end|>\\n<|im_start|>user\\nBagaimanakah anda menganjurkan pesta angkasa lepas?<|im_end|>\\n<|im_start|>assistant\\nawak planet!<|im_end|>\\n<|im_start|>user\\nApa yang anda dapat apabila anda melintasi manusia salji dan jerung?<|im_end|>\\n<|im_start|>assistant\\ngigitan beku!<|im_end|>\\n<|im_start|>user\\nMengapa basikal itu jatuh?<|im_end|>\\n<|im_start|>assistant\\nKerana ia penat dua!<|im_end|>\\n<|im_start|>user\\nBagaimana anda membuat tarian tisu?<|im_end|>\\n<|im_start|>assistant\\nAnda meletakkan boogie kecil di dalamnya!<|im_end|>\\n<|im_start|>user\\nApa yang anda panggil dinosaur dengan perbendaharaan kata yang luas?<|im_end|>\\n<|im_start|>assistant\\nSebuah tesaurus!<|im_end|>\\n<|im_start|>user\\nApa yang anda katakan kepada pembersih vakum?<|im_end|>\\n<|im_start|>assistant\\nAnda kelihatan baik, sedutan!<|im_end|>\\n<|im_start|>user\\nMengapa tali pinggang itu dihantar ke penjara?<|im_end|>\\n<|im_start|>assistant\\nIa memegang sepasang seluar!<|im_end|>\\n<|im_start|>user\\nApa yang anda panggil lembu jantan yang sedang tidur?<|im_end|>\\n<|im_start|>assistant\\nJentolak!<|im_end|>\\n<|im_start|>user\\nKenapa ayam itu menyertai kumpulan muzik?<|im_end|>\\n<|im_start|>assistant\\nKerana ia mempunyai batang drum!<|im_end|>\\n<|im_start|>user\\nMengapa teddy bear berkata tidak kepada pencuci mulut?<|im_end|>\\n<|im_start|>assistant\\nKerana ia sudah disumbat!<|im_end|>\\n<|im_start|>user\\nApa yang anda panggil dinosaur buta?<|im_end|>\\n<|im_start|>assistant\\nAdakah-anda-kira-dia-lihat-kita!<|im_end|>\\n<|im_start|>user\\nMengapa rangka tidak berlawan antara satu sama lain?<|im_end|>\\n<|im_start|>assistant\\nMereka tidak mempunyai keberanian!<|im_end|>\\n<|im_start|>user\\nApa yang anda panggil manusia salji dengan enam pek?<|im_end|>\\n<|im_start|>assistant\\nManusia salji perut!<|im_end|>\\n<|im_start|>user\\nMengapa burung camar terbang di atas laut?<|im_end|>\\n<|im_start|>assistant\\nKerana jika mereka terbang melintasi teluk, mereka akan menjadi bagel!<|im_end|>\\n<|im_start|>user\\nBagaimanakah penguin membina rumahnya?<|im_end|>\\n<|im_start|>assistant\\nIgloo bersama-sama!<|im_end|>\\n<|im_start|>user\\nMengapa basikal itu tidak boleh berdiri sendiri?<|im_end|>\\n<|im_start|>assistant\\nIa adalah dua penat!<|im_end|>\\n<|im_start|>user\\nMengapa buku matematik itu sedih?<|im_end|>\\n<|im_start|>assistant\\nKerana ia mempunyai terlalu banyak masalah!<|im_end|>\\n<|im_start|>user\\nApa yang anda panggil negara di mana semua orang memandu ke belakang?<|im_end|>\\n<|im_start|>assistant\\nNegara yang disusun semula!<|im_end|>\\n<|im_start|>user\\nApa yang anda panggil komputer yang menyanyi?<|im_end|>\\n<|im_start|>assistant\\nDiva bersaiz bait!<|im_end|>\\n<|im_start|>user\\nMengapa basikal itu tidak dapat menaikkan semangatnya?<|im_end|>\\n<|im_start|>assistant\\nIa adalah dua tayar-d!<|im_end|>\\n<|im_start|>user\\nApa yang anda panggil orang mengantuk di sarkas?<|im_end|>\\n<|im_start|>assistant\\nOh begitu. Tapi kenapa huruf \\'B\\' ni cantik sangat?<|im_end|>\\n<|im_start|>user\\nMengapa kopi membuat laporan polis?<|im_end|>\\n<|im_start|>assistant\\nIa telah dirompak!<|im_end|>\\n<|im_start|>user\\nAudio 1: <|audio_bos|><|AUDIO|><|audio_eos|>\\n<|im_end|>\\n<|im_start|>assistant\\nHilang!<|im_end|>\\n<|im_start|>user\\nApa yang anda panggil ikan memakai mahkota?<|im_end|>\\n<|im_start|>assistant\\nIkan raja!<|im_end|>\\n<|im_start|>user\\nApa yang anda panggil mi palsu?<|im_end|>\\n<|im_start|>assistant\\nSatu impasta!<|im_end|>\\n<|im_start|>user\\nMengapa lebah mempunyai rambut melekit?<|im_end|>\\n<|im_start|>assistant\\nKerana mereka menggunakan sarang lebah!<|im_end|>\\n<|im_start|>user\\nMengapa itik pergi ke terapi?<|im_end|>\\n<|im_start|>assistant\\nKerana ia mempunyai tabiat cuak!<|im_end|>\\n<|im_start|>user\\nApa yang anda dapat apabila anda menyeberangi manusia salji dan puntianak?<|im_end|>\\n<|im_start|>assistant\\ngigitan beku!<|im_end|>\\n<|im_start|>user\\nKenapa orang scarecrow memenangi anugerah?<|im_end|>\\n<|im_start|>assistant\\nKerana dia cemerlang dalam bidangnya!<|im_end|>\\n<|im_start|>user\\nApa yang anda panggil manusia salji di Gurun Sahara?<|im_end|>\\n<|im_start|>assistant\\nLopak!<|im_end|>\\n<|im_start|>user\\nApa yang anda panggil ikan tanpa mata?<|im_end|>\\n<|im_start|>assistant\\nFsh!<|im_end|>\\n<|im_start|>user\\nApa yang anda panggil dinosaur buta?<|im_end|>\\n<|im_start|>assistant\\nAdakah-anda-kira-dia-lihat-kita!<|im_end|>\\n<|im_start|>user\\nMengapa basikal itu terhempas?<|im_end|>\\n<|im_start|>assistant\\nKerana ia adalah dua penat!<|im_end|>\\n<|im_start|>user\\nMengapa basikal itu jatuh?<|im_end|>\\n<|im_start|>assistant\\nIa adalah dua penat!<|im_end|>\\n<|im_start|>user\\nMengapa basikal itu jatuh?<|im_end|>\\n<|im_start|>assistant\\nKerana ia penat dua!<|im_end|>\\n<|im_start|>user\\nApa yang anda panggil sekumpulan itik Perancis?<|im_end|>\\n<|im_start|>assistant\\nBiara itik!<|im_end|>\\n<|im_start|>user\\nMengapa rangka tidak melawan?<|im_end|>\\n<|im_start|>assistant\\nMereka tidak mempunyai keberanian!<|im_end|>\\n<|im_start|>user\\nApa yang anda panggil ikan memakai mahkota?<|im_end|>\\n<|im_start|>assistant\\nIkan raja!<|im_end|>\\n<|im_start|>user\\nApa yang anda panggil komputer yang menyanyi?<|im_end|>\\n<|im_start|>assistant\\nDiva bersaiz bait!<|im_end|>\\n<|im_start|>user\\nMengapa basikal itu tidak boleh berdiri sendiri?<|im_end|>\\n<|im_start|>assistant\\nIa adalah dua penat!<|im_end|>\\n<|im_start|>user\\nMengapa kopi membuat laporan polis?<|im_end|>\\n<|im_start|>assistant\\nIa telah dirompak!<|im_end|>\\n<|im_start|>user\\nAudio 2: <|audio_bos|><|AUDIO|><|audio_eos|>\\n<|im_end|>\\n<|im_start|>assistant\\nHilang!<|im_end|>\\n<|im_start|>user\\nSaya rasa saya telah menanyakan soalan bodoh kepada anda buat masa ini, terima kasih!<|im_end|>\\n<|im_start|>assistant\\nSama-sama! Saya di sini 24/7 untuk membantu menjawab sebarang soalan anda, bodoh atau tidak. Selamat hari raya!<|im_end|>\\n', 'audio': '/home/husein/ssd3/dataset/speech-instructions/partition-instructions-part-6/7742.mp3'}\n"
     ]
    },
    {
     "name": "stderr",
     "output_type": "stream",
     "text": [
      "loop 5:  41%|█████████████████████████████▊                                          | 20688/50000 [03:27<02:24, 202.44it/s]Token indices sequence length is longer than the specified maximum sequence length for this model (9145 > 8192). Running this sequence through the model will result in indexing errors\n",
      "loop 3:  37%|██████████████████████████▉                                              | 18482/50000 [04:12<06:34, 79.97it/s]Token indices sequence length is longer than the specified maximum sequence length for this model (8368 > 8192). Running this sequence through the model will result in indexing errors\n",
      "loop 0:  71%|███████████████████████████████████████████████████▏                    | 35513/50000 [04:40<01:51, 130.08it/s]Token indices sequence length is longer than the specified maximum sequence length for this model (12337 > 8192). Running this sequence through the model will result in indexing errors\n",
      "loop 8:  61%|████████████████████████████████████████████▌                            | 30537/50000 [06:14<04:42, 68.90it/s]Token indices sequence length is longer than the specified maximum sequence length for this model (8846 > 8192). Running this sequence through the model will result in indexing errors\n",
      "loop 4: 100%|████████████████████████████████████████████████████████████████████████| 50000/50000 [06:29<00:00, 128.33it/s]\n",
      "loop 0: 100%|████████████████████████████████████████████████████████████████████████| 50000/50000 [07:17<00:00, 114.22it/s]\n",
      "loop 2: 100%|████████████████████████████████████████████████████████████████████████| 50000/50000 [07:54<00:00, 105.30it/s]\n",
      "loop 5: 100%|█████████████████████████████████████████████████████████████████████████| 50000/50000 [08:29<00:00, 98.15it/s]\n",
      "loop 9: 100%|█████████████████████████████████████████████████████████████████████████| 50000/50000 [08:42<00:00, 95.73it/s]\n",
      "loop 3: 100%|█████████████████████████████████████████████████████████████████████████| 50000/50000 [09:09<00:00, 90.98it/s]\n",
      "loop 8: 100%|█████████████████████████████████████████████████████████████████████████| 50000/50000 [11:40<00:00, 71.33it/s]\n",
      "loop 7: 100%|█████████████████████████████████████████████████████████████████████████| 50000/50000 [11:47<00:00, 70.69it/s]\n",
      "loop 6: 100%|█████████████████████████████████████████████████████████████████████████| 50000/50000 [12:09<00:00, 68.56it/s]\n",
      "loop 10: 100%|███████████████████████████████████████████████████████████████████████| 50000/50000 [06:31<00:00, 127.65it/s]\n",
      "loop 11: 100%|███████████████████████████████████████████████████████████████████████| 50000/50000 [06:23<00:00, 130.26it/s]\n",
      "loop 12: 100%|███████████████████████████████████████████████████████████████████████| 50000/50000 [05:51<00:00, 142.17it/s]\n",
      "loop 1: 100%|█████████████████████████████████████████████████████████████████████████| 50000/50000 [14:18<00:00, 58.23it/s]\n",
      "loop 17: 100%|███████████████████████████████████████████████████████████████████████| 23196/23196 [02:28<00:00, 156.43it/s]\n",
      "loop 13: 100%|███████████████████████████████████████████████████████████████████████| 50000/50000 [05:59<00:00, 139.06it/s]\n",
      "loop 14: 100%|███████████████████████████████████████████████████████████████████████| 50000/50000 [05:54<00:00, 140.90it/s]\n",
      "loop 15: 100%|███████████████████████████████████████████████████████████████████████| 50000/50000 [05:39<00:00, 147.19it/s]\n",
      "loop 16: 100%|███████████████████████████████████████████████████████████████████████| 50000/50000 [04:30<00:00, 185.08it/s]\n"
     ]
    }
   ],
   "source": [
    "from multiprocess import Pool\n",
    "import mp\n",
    "\n",
    "chunks = mp.chunks(data, 50000)\n",
    "pool = Pool(10)\n",
    "pooled = pool.map(loop, chunks)\n",
    "pool.close()\n",
    "pool.join()"
   ]
  },
  {
   "cell_type": "code",
   "execution_count": 17,
   "id": "f580cac2",
   "metadata": {
    "scrolled": true
   },
   "outputs": [
    {
     "data": {
      "text/plain": [
       "36"
      ]
     },
     "execution_count": 17,
     "metadata": {},
     "output_type": "execute_result"
    }
   ],
   "source": [
    "folders = glob('tokenized-audio-4096/tokenized-*') + glob('tokenized-4k/tokenized-*')\n",
    "len(folders)"
   ]
  },
  {
   "cell_type": "code",
   "execution_count": 18,
   "id": "c61e275a",
   "metadata": {},
   "outputs": [
    {
     "name": "stderr",
     "output_type": "stream",
     "text": [
      "huggingface/tokenizers: The current process just got forked, after parallelism has already been used. Disabling parallelism to avoid deadlocks...\n",
      "To disable this warning, you can either:\n",
      "\t- Avoid using `tokenizers` before the fork if possible\n",
      "\t- Explicitly set the environment variable TOKENIZERS_PARALLELISM=(true | false)\n"
     ]
    }
   ],
   "source": [
    "!rm -rf packing-4k"
   ]
  },
  {
   "cell_type": "code",
   "execution_count": 19,
   "id": "e1040fef",
   "metadata": {},
   "outputs": [
    {
     "name": "stderr",
     "output_type": "stream",
     "text": [
      "100%|████████████████████████████████████████████████████████████████████████████████| 4185/4185 [00:00<00:00, 12438.47it/s]\n",
      "100%|████████████████████████████████████████████████████████████████████████████████| 4344/4344 [00:00<00:00, 13412.15it/s]\n",
      "100%|████████████████████████████████████████████████████████████████████████████████| 1970/1970 [00:00<00:00, 12489.26it/s]\n",
      "100%|████████████████████████████████████████████████████████████████████████████████| 4211/4211 [00:00<00:00, 13029.91it/s]\n",
      "100%|██████████████████████████████████████████████████████████████████████████████| 14380/14380 [00:01<00:00, 10692.57it/s]\n",
      "100%|██████████████████████████████████████████████████████████████████████████████| 10758/10758 [00:00<00:00, 10798.84it/s]\n",
      "100%|██████████████████████████████████████████████████████████████████████████████| 13988/13988 [00:01<00:00, 13218.36it/s]\n",
      "100%|████████████████████████████████████████████████████████████████████████████████| 4213/4213 [00:00<00:00, 10215.86it/s]\n",
      "100%|██████████████████████████████████████████████████████████████████████████████| 15671/15671 [00:01<00:00, 13226.73it/s]\n",
      "100%|██████████████████████████████████████████████████████████████████████████████| 22538/22538 [00:01<00:00, 13134.55it/s]\n",
      "100%|██████████████████████████████████████████████████████████████████████████████| 35327/35327 [00:02<00:00, 12729.23it/s]\n",
      "100%|██████████████████████████████████████████████████████████████████████████████| 46230/46230 [00:04<00:00, 11342.13it/s]\n",
      "100%|████████████████████████████████████████████████████████████████████████████████| 4248/4248 [00:00<00:00, 10647.60it/s]\n",
      "100%|████████████████████████████████████████████████████████████████████████████████| 3893/3893 [00:00<00:00, 13363.02it/s]\n",
      "100%|██████████████████████████████████████████████████████████████████████████████| 18936/18936 [00:01<00:00, 12678.33it/s]\n",
      "100%|████████████████████████████████████████████████████████████████████████████████| 4663/4663 [00:00<00:00, 14960.75it/s]\n",
      "100%|██████████████████████████████████████████████████████████████████████████████| 34281/34281 [00:02<00:00, 12566.12it/s]\n",
      "100%|██████████████████████████████████████████████████████████████████████████████| 18528/18528 [00:01<00:00, 10992.49it/s]\n",
      "100%|██████████████████████████████████████████████████████████████████████████████████| 8899/8899 [00:23<00:00, 378.65it/s]\n",
      "100%|████████████████████████████████████████████████████████████████████████████████| 10288/10288 [00:29<00:00, 346.70it/s]\n",
      "100%|█████████████████████████████████████████████████████████████████████████████████| 3630/3630 [00:00<00:00, 6423.60it/s]\n",
      "100%|████████████████████████████████████████████████████████████████████████████████| 6090/6090 [00:00<00:00, 12303.10it/s]\n",
      "100%|████████████████████████████████████████████████████████████████████████████████| 7390/7390 [00:00<00:00, 12005.33it/s]\n",
      "100%|████████████████████████████████████████████████████████████████████████████████| 4046/4046 [00:00<00:00, 12355.69it/s]\n",
      "100%|████████████████████████████████████████████████████████████████████████████████| 5253/5253 [00:00<00:00, 10759.84it/s]\n",
      "100%|██████████████████████████████████████████████████████████████████████████████| 12469/12469 [00:01<00:00, 12367.51it/s]\n",
      "100%|██████████████████████████████████████████████████████████████████████████████| 10850/10850 [00:00<00:00, 12737.45it/s]\n",
      "100%|████████████████████████████████████████████████████████████████████████████████| 8371/8371 [00:00<00:00, 12543.86it/s]\n",
      "100%|█████████████████████████████████████████████████████████████████████████████████| 1402/1402 [00:00<00:00, 9526.75it/s]\n",
      "100%|██████████████████████████████████████████████████████████████████████████████| 15367/15367 [00:01<00:00, 12869.91it/s]\n",
      "100%|██████████████████████████████████████████████████████████████████████████████| 15427/15427 [00:01<00:00, 11400.75it/s]\n",
      "100%|██████████████████████████████████████████████████████████████████████████████| 13322/13322 [00:01<00:00, 12435.13it/s]\n",
      "100%|█████████████████████████████████████████████████████████████████████████████████| 1396/1396 [00:00<00:00, 9412.31it/s]\n",
      "100%|████████████████████████████████████████████████████████████████████████████████| 9205/9205 [00:00<00:00, 11498.28it/s]\n",
      "100%|████████████████████████████████████████████████████████████████████████████████| 2078/2078 [00:00<00:00, 12336.01it/s]\n",
      "100%|██████████████████████████████████████████████████████████████████████████████| 18664/18664 [00:01<00:00, 12503.15it/s]\n"
     ]
    }
   ],
   "source": [
    "with MDSWriter(out='packing-4k', columns=columns, compression=None, hashes=hashes) as out:\n",
    "    for f in folders:\n",
    "        try:\n",
    "            dataset = LocalDataset(local=f)\n",
    "            for i in tqdm(range(len(dataset))):\n",
    "                out.write(dataset[i])\n",
    "        except Exception as e:\n",
    "            print(e)\n",
    "            pass"
   ]
  },
  {
   "cell_type": "code",
   "execution_count": 6,
   "id": "817e6e9f",
   "metadata": {},
   "outputs": [],
   "source": [
    "import torch.nn.functional as F\n",
    "\n",
    "def block_diagonal_concat_inverted(*masks, dtype=torch.bfloat16):\n",
    "    total_size = sum(mask.size(0) for mask in masks)\n",
    "    combined_mask = torch.zeros(total_size, total_size, dtype=dtype)\n",
    "\n",
    "    current_pos = 0\n",
    "\n",
    "    for mask in masks:\n",
    "        size = mask.size(0)\n",
    "        combined_mask[current_pos:current_pos + size, current_pos:current_pos + size] = mask\n",
    "        current_pos += size\n",
    "\n",
    "    min_value = torch.finfo(dtype).min if dtype.is_floating_point else torch.iinfo(dtype).min\n",
    "    inverted_mask = torch.where(combined_mask == 1, torch.tensor(0, dtype=dtype), min_value)\n",
    "    return inverted_mask.unsqueeze(0)\n",
    "\n",
    "def pad_attention_mask_4d(attention_mask, max_size = 4096, value = 0.0):\n",
    "    maxlen_right = max_size\n",
    "    maxlen_bottom = max_size\n",
    "    attention_mask = [\n",
    "        F.pad(\n",
    "            attention_mask[i],\n",
    "            (0, maxlen_right - attention_mask[i].shape[-2], 0, maxlen_bottom - attention_mask[i].shape[-1]), value = value) for i in range(\n",
    "            len(attention_mask))]\n",
    "    return torch.stack(attention_mask)"
   ]
  },
  {
   "cell_type": "code",
   "execution_count": 7,
   "id": "64735415",
   "metadata": {},
   "outputs": [],
   "source": [
    "def collator(batch):\n",
    "    batch = [b for b in batch if b is not None] \n",
    "    input_ids, attention_mask, position_ids, labels = [], [], [], []\n",
    "    input_features, feature_attention_mask = [], []\n",
    "\n",
    "    for b in batch:\n",
    "        if 'input_features' in b:\n",
    "            input_features.append(b['input_features'])\n",
    "            feature_attention_mask.append(b['feature_attention_mask'])\n",
    "        input_ids.append(b['input_ids'][None])\n",
    "        attention_mask.append(b['attention_mask'])\n",
    "        position_ids.append(b['position_ids'][None])\n",
    "        labels.append(b['labels'][None])\n",
    "\n",
    "    input_ids = {\n",
    "        'input_ids': torch.concat(input_ids, 0),\n",
    "        'attention_mask': pad_attention_mask_4d(attention_mask, sequence_length, min_dtype),\n",
    "        'position_ids': torch.concat(position_ids, 0),\n",
    "        'labels': torch.concat(labels, 0),\n",
    "    }\n",
    "    if len(input_features):\n",
    "        input_ids['input_features'] = torch.concat(input_features, 0)\n",
    "        input_ids['feature_attention_mask'] = torch.concat(feature_attention_mask, 0)\n",
    "\n",
    "    return input_ids"
   ]
  },
  {
   "cell_type": "code",
   "execution_count": 8,
   "id": "588721cf",
   "metadata": {},
   "outputs": [],
   "source": [
    "class DatasetFixed(torch.utils.data.Dataset):\n",
    "    def __init__(self, local):\n",
    "        self.dataset = LocalDataset(local=local)\n",
    "        self.audio = Audio(sampling_rate=16000)\n",
    "\n",
    "    def __getitem__(self, idx):\n",
    "        data = self.dataset[idx]\n",
    "        try:\n",
    "            data.pop('text', None)\n",
    "            audio_files = data.pop('audio', '')\n",
    "            data['labels'] = data[\"input_ids\"].copy()\n",
    "            masking = data.pop('attention_mask')\n",
    "\n",
    "            data.pop('token_type_ids', None)\n",
    "            for k in data.keys():\n",
    "                data[k] = torch.tensor(data[k].astype(np.int64))\n",
    "\n",
    "            masks = []\n",
    "            for m in masking:\n",
    "                masks.append(torch.tril(torch.ones(m, m)))\n",
    "            attention_mask = block_diagonal_concat_inverted(*masks)\n",
    "            data['attention_mask'] = attention_mask\n",
    "\n",
    "            data['labels'][data['labels'] == audio_token_id] = -100\n",
    "            data['labels'][data['labels'] == pad_token_id] = -100\n",
    "\n",
    "            if len(audio_files):\n",
    "                files = json.loads(audio_files)\n",
    "                print(files)\n",
    "                audios = []\n",
    "                for f in files:\n",
    "                    audio = self.audio.decode_example(\n",
    "                    self.audio.encode_example(f))['array']\n",
    "                    audios.append(audio)\n",
    "\n",
    "                inputs_audio = processor.feature_extractor(\n",
    "                    audios, return_attention_mask=True, \n",
    "                    sampling_rate=16000,\n",
    "                    padding=\"max_length\", return_tensors = 'pt')\n",
    "\n",
    "                data['input_features'] = inputs_audio['input_features']\n",
    "                data['feature_attention_mask'] = inputs_audio['attention_mask']\n",
    "                \n",
    "            return data\n",
    "\n",
    "        except Exception as e:\n",
    "            print('Exception', e)\n",
    "            return None\n",
    "\n",
    "    def __len__(self):\n",
    "        return len(self.dataset)"
   ]
  },
  {
   "cell_type": "code",
   "execution_count": 9,
   "id": "bc76f64a",
   "metadata": {},
   "outputs": [],
   "source": [
    "dataset = DatasetFixed('packing-4k')"
   ]
  },
  {
   "cell_type": "code",
   "execution_count": 30,
   "id": "4dd4e58a",
   "metadata": {},
   "outputs": [
    {
     "name": "stdout",
     "output_type": "stream",
     "text": [
      "['/home/husein/ssd3/dataset/speech-instructions/partition-instructions-part-7/15027.mp3', '/home/husein/ssd3/dataset/speech-instructions/partition-instructions-part-13/5750.mp3', '/home/husein/ssd3/dataset/speech-instructions/partition-instructions-part-3/4401.mp3', '/home/husein/ssd3/dataset/speech-instructions/partition-instructions-part-8/184.mp3', '/home/husein/ssd3/dataset/speech-instructions/partition-instructions-part-6/5657.mp3', '/home/husein/ssd3/dataset/speech-instructions/partition-instructions-part-8/28071.mp3', '/home/husein/ssd3/dataset/speech-instructions/partition-instructions-part-2/16132.mp3', '/home/husein/ssd3/dataset/speech-instructions/partition-instructions-part-0/20140.mp3', '/home/husein/ssd3/dataset/speech-instructions/short-coding-2/1548.mp3', '/home/husein/ssd3/dataset/speech-instructions/partition-instructions-part-12/5325.mp3', '/home/husein/ssd3/dataset/speech-instructions/partition-instructions-part-5/8491.mp3']\n"
     ]
    },
    {
     "data": {
      "text/plain": [
       "{'input_ids': tensor([151644,   8948,    198,  ..., 151643, 151643, 151643]),\n",
       " 'position_ids': tensor([0, 1, 2,  ..., 0, 0, 0]),\n",
       " 'labels': tensor([151644,   8948,    198,  ...,   -100,   -100,   -100]),\n",
       " 'attention_mask': tensor([[[ 0.0000e+00, -3.3895e+38, -3.3895e+38,  ..., -3.3895e+38,\n",
       "           -3.3895e+38, -3.3895e+38],\n",
       "          [ 0.0000e+00,  0.0000e+00, -3.3895e+38,  ..., -3.3895e+38,\n",
       "           -3.3895e+38, -3.3895e+38],\n",
       "          [ 0.0000e+00,  0.0000e+00,  0.0000e+00,  ..., -3.3895e+38,\n",
       "           -3.3895e+38, -3.3895e+38],\n",
       "          ...,\n",
       "          [-3.3895e+38, -3.3895e+38, -3.3895e+38,  ...,  0.0000e+00,\n",
       "           -3.3895e+38, -3.3895e+38],\n",
       "          [-3.3895e+38, -3.3895e+38, -3.3895e+38,  ...,  0.0000e+00,\n",
       "            0.0000e+00, -3.3895e+38],\n",
       "          [-3.3895e+38, -3.3895e+38, -3.3895e+38,  ...,  0.0000e+00,\n",
       "            0.0000e+00,  0.0000e+00]]], dtype=torch.bfloat16),\n",
       " 'input_features': tensor([[[-0.5321, -0.5411, -0.5411,  ..., -0.5411, -0.5411, -0.5411],\n",
       "          [-0.4346, -0.5411, -0.5411,  ..., -0.5411, -0.5411, -0.5411],\n",
       "          [-0.4847, -0.4890, -0.2393,  ..., -0.5411, -0.5411, -0.5411],\n",
       "          ...,\n",
       "          [-0.5411, -0.5411, -0.5411,  ..., -0.5411, -0.5411, -0.5411],\n",
       "          [-0.5411, -0.5411, -0.5411,  ..., -0.5411, -0.5411, -0.5411],\n",
       "          [-0.5411, -0.5411, -0.5411,  ..., -0.5411, -0.5411, -0.5411]],\n",
       " \n",
       "         [[-0.1497, -0.5295, -0.5295,  ..., -0.5295, -0.5295, -0.5295],\n",
       "          [-0.0522, -0.5295, -0.5295,  ..., -0.5295, -0.5295, -0.5295],\n",
       "          [-0.0707, -0.5295, -0.5295,  ..., -0.5295, -0.5295, -0.5295],\n",
       "          ...,\n",
       "          [-0.5295, -0.5295, -0.5295,  ..., -0.5295, -0.5295, -0.5295],\n",
       "          [-0.5295, -0.5295, -0.5295,  ..., -0.5295, -0.5295, -0.5295],\n",
       "          [-0.5295, -0.5295, -0.5295,  ..., -0.5295, -0.5295, -0.5295]],\n",
       " \n",
       "         [[-0.5331, -0.0444, -0.3548,  ..., -0.5331, -0.5331, -0.5331],\n",
       "          [-0.5331,  0.0531, -0.2572,  ..., -0.5331, -0.5331, -0.5331],\n",
       "          [ 0.0940,  0.1993,  0.1284,  ..., -0.5331, -0.5331, -0.5331],\n",
       "          ...,\n",
       "          [-0.5223, -0.4818, -0.5331,  ..., -0.5331, -0.5331, -0.5331],\n",
       "          [-0.5331, -0.5331, -0.4595,  ..., -0.5331, -0.5331, -0.5331],\n",
       "          [-0.5331, -0.5331, -0.5331,  ..., -0.5331, -0.5331, -0.5331]],\n",
       " \n",
       "         ...,\n",
       " \n",
       "         [[-0.0604, -0.5351, -0.5351,  ..., -0.5351, -0.5351, -0.5351],\n",
       "          [ 0.0372, -0.4479, -0.5351,  ..., -0.5351, -0.5351, -0.5351],\n",
       "          [ 0.0899, -0.0856, -0.0993,  ..., -0.5351, -0.5351, -0.5351],\n",
       "          ...,\n",
       "          [-0.5351, -0.5351, -0.5351,  ..., -0.5351, -0.5351, -0.5351],\n",
       "          [-0.5351, -0.5351, -0.5351,  ..., -0.5351, -0.5351, -0.5351],\n",
       "          [-0.5351, -0.5351, -0.5351,  ..., -0.5351, -0.5351, -0.5351]],\n",
       " \n",
       "         [[-0.1186, -0.4972, -0.4972,  ..., -0.4972, -0.4972, -0.4972],\n",
       "          [-0.0211, -0.4972, -0.4972,  ..., -0.4972, -0.4972, -0.4972],\n",
       "          [ 0.0234, -0.4173, -0.2283,  ..., -0.4972, -0.4972, -0.4972],\n",
       "          ...,\n",
       "          [-0.4972, -0.4972, -0.4972,  ..., -0.4972, -0.4972, -0.4972],\n",
       "          [-0.4972, -0.4972, -0.4972,  ..., -0.4972, -0.4972, -0.4972],\n",
       "          [-0.4972, -0.4972, -0.4972,  ..., -0.4972, -0.4972, -0.4972]],\n",
       " \n",
       "         [[-0.2451, -0.5533, -0.4157,  ..., -0.5659, -0.5659, -0.5659],\n",
       "          [-0.1475, -0.4557, -0.3182,  ..., -0.5659, -0.5659, -0.5659],\n",
       "          [-0.1441, -0.1136, -0.1148,  ..., -0.5659, -0.5659, -0.5659],\n",
       "          ...,\n",
       "          [-0.5659, -0.5659, -0.5659,  ..., -0.5659, -0.5659, -0.5659],\n",
       "          [-0.5659, -0.5659, -0.5659,  ..., -0.5659, -0.5659, -0.5659],\n",
       "          [-0.5659, -0.5659, -0.5659,  ..., -0.5659, -0.5659, -0.5659]]]),\n",
       " 'feature_attention_mask': tensor([[1, 1, 1,  ..., 0, 0, 0],\n",
       "         [1, 1, 1,  ..., 0, 0, 0],\n",
       "         [1, 1, 1,  ..., 0, 0, 0],\n",
       "         ...,\n",
       "         [1, 1, 1,  ..., 0, 0, 0],\n",
       "         [1, 1, 1,  ..., 0, 0, 0],\n",
       "         [1, 1, 1,  ..., 0, 0, 0]], dtype=torch.int32)}"
      ]
     },
     "execution_count": 30,
     "metadata": {},
     "output_type": "execute_result"
    }
   ],
   "source": [
    "dataset[10000]"
   ]
  },
  {
   "cell_type": "code",
   "execution_count": 44,
   "id": "091f93d7",
   "metadata": {
    "scrolled": true
   },
   "outputs": [
    {
     "name": "stdout",
     "output_type": "stream",
     "text": [
      "['/home/husein/ssd3/dialects_processed/BENGKEL KERJA PSS [rRzOjoBmYwc]/BENGKEL KERJA PSS [rRzOjoBmYwc]_461.mp3', '/home/husein/ssd3/dialects_processed/ADUHH DIWAN SUNAT DI BULAN PUASA KERNA LAPAR [ddxxMnFMuAk]/ADUHH DIWAN SUNAT DI BULAN PUASA KERNA LAPAR [ddxxMnFMuAk]_2.mp3', '/home/husein/ssd3/dialects_processed/[[LIVE]]6.10.22 Bubar Parlimen tak jadi？ Anak menteri & SPH [xGLhHBXxPAk]/[[LIVE]]6.10.22 Bubar Parlimen tak jadi？ Anak menteri & SPH [xGLhHBXxPAk]_239.mp3', '/home/husein/ssd3/dialects_processed/Pertandingan Pidato Sektor Awam Piala Setiausaha Kerajaan Terengganu 2024 [wkoNBavuJW0]/Pertandingan Pidato Sektor Awam Piala Setiausaha Kerajaan Terengganu 2024 [wkoNBavuJW0]_50.mp3', '/home/husein/ssd3/dialects_processed/Pertandingan Pidato dan Majlis Perasmian Penutupan Program Saya Remaja Malaysia [N6EiCeVnkxY]/Pertandingan Pidato dan Majlis Perasmian Penutupan Program Saya Remaja Malaysia [N6EiCeVnkxY]_97.mp3', '/home/husein/ssd3/dialects_processed/LUAR BIASA!! BULE LUCU YANG FASIH BAHASA  SUNDA AKUI AKSEN SUNDANYA KASAR BELI DOMBA GORUT 🇲🇾REACT [24lE9MnVsEA]/LUAR BIASA!! BULE LUCU YANG FASIH BAHASA  SUNDA AKUI AKSEN SUNDANYA KASAR BELI DOMBA GORUT 🇲🇾REACT [24lE9MnVsEA]_3.mp3', '/home/husein/ssd3/dialects_processed/Pukulan Ala Tiger Woods ｜ BK Arena ｜ BINTANG KECIL [l3m1WoNOqhE]/Pukulan Ala Tiger Woods ｜ BK Arena ｜ BINTANG KECIL [l3m1WoNOqhE]_1.mp3', '/home/husein/ssd3/dialects_processed/SEJARAH TAHUN 4 ｜ UNIT 3｜ TEMPATKU MENIMBA ILMU & LOKASI SEKOLAH [TWB8QmOUErI]/SEJARAH TAHUN 4 ｜ UNIT 3｜ TEMPATKU MENIMBA ILMU & LOKASI SEKOLAH [TWB8QmOUErI]_26.mp3', '/home/husein/ssd3/dialects_processed/KEDAH SUNSHINE vs PERAK PHOENIX [STRIM PENUH] ｜ NETBALL SUPER LEAGUE [1yKSZXrZnYs]/KEDAH SUNSHINE vs PERAK PHOENIX [STRIM PENUH] ｜ NETBALL SUPER LEAGUE [1yKSZXrZnYs]_78.mp3', '/home/husein/ssd3/dialects_processed/#LIVE ｜ Sidang Dewan Rakyat, 26 Julai 2022 (Sesi Pagi) [8Y5A6xkVuXA]/#LIVE ｜ Sidang Dewan Rakyat, 26 Julai 2022 (Sesi Pagi) [8Y5A6xkVuXA]_360.mp3', '/home/husein/ssd3/dialects_processed/Unraveling Bahasa Melayu Larantuka： A Linguistic Journey [WQPkHJitgXI]/Unraveling Bahasa Melayu Larantuka： A Linguistic Journey [WQPkHJitgXI]_24.mp3', '/home/husein/ssd3/dialects_processed/POV： Ini yang perlu anda lakukan jika terperangkap di jalan yang dinaiki air [Z5eL6DM9SXk]/POV： Ini yang perlu anda lakukan jika terperangkap di jalan yang dinaiki air [Z5eL6DM9SXk]_4.mp3', '/home/husein/ssd3/dialects_processed/Bicara Karyawan： Derivatif di Malaysia Mengatasi Risiko Harga [-j_M6YZXeO4]/Bicara Karyawan： Derivatif di Malaysia Mengatasi Risiko Harga [-j_M6YZXeO4]_84.mp3', '/home/husein/ssd3/dialects_processed/10 Haiwan Pelik Anda Tak Sangka Wujud! [LjRrQK-R5fw]/10 Haiwan Pelik Anda Tak Sangka Wujud! [LjRrQK-R5fw]_5.mp3']\n",
      "['/home/husein/ssd3/dataset/speech-instructions/partition-instructions-part-10/9246.mp3']\n"
     ]
    }
   ],
   "source": [
    "batch = [dataset[0], dataset[200000]]"
   ]
  },
  {
   "cell_type": "code",
   "execution_count": 45,
   "id": "5e782a24",
   "metadata": {},
   "outputs": [
    {
     "data": {
      "text/plain": [
       "tensor([[1, 1, 1,  ..., 0, 0, 0],\n",
       "        [1, 1, 1,  ..., 0, 0, 0],\n",
       "        [1, 1, 1,  ..., 0, 0, 0],\n",
       "        ...,\n",
       "        [1, 1, 1,  ..., 0, 0, 0],\n",
       "        [1, 1, 1,  ..., 0, 0, 0],\n",
       "        [1, 1, 1,  ..., 0, 0, 0]], dtype=torch.int32)"
      ]
     },
     "execution_count": 45,
     "metadata": {},
     "output_type": "execute_result"
    }
   ],
   "source": [
    "b = collator(batch)\n",
    "b['feature_attention_mask']"
   ]
  },
  {
   "cell_type": "code",
   "execution_count": 46,
   "id": "546e6c68",
   "metadata": {},
   "outputs": [
    {
     "data": {
      "text/plain": [
       "tensor([[[[ 0.0000e+00, -3.3895e+38, -3.3895e+38,  ..., -3.3895e+38,\n",
       "           -3.3895e+38, -3.3895e+38],\n",
       "          [ 0.0000e+00,  0.0000e+00, -3.3895e+38,  ..., -3.3895e+38,\n",
       "           -3.3895e+38, -3.3895e+38],\n",
       "          [ 0.0000e+00,  0.0000e+00,  0.0000e+00,  ..., -3.3895e+38,\n",
       "           -3.3895e+38, -3.3895e+38],\n",
       "          ...,\n",
       "          [-3.3895e+38, -3.3895e+38, -3.3895e+38,  ..., -3.3895e+38,\n",
       "           -3.3895e+38, -3.3895e+38],\n",
       "          [-3.3895e+38, -3.3895e+38, -3.3895e+38,  ..., -3.3895e+38,\n",
       "           -3.3895e+38, -3.3895e+38],\n",
       "          [-3.3895e+38, -3.3895e+38, -3.3895e+38,  ..., -3.3895e+38,\n",
       "           -3.3895e+38, -3.3895e+38]]],\n",
       "\n",
       "\n",
       "        [[[ 0.0000e+00, -3.3895e+38, -3.3895e+38,  ..., -3.3895e+38,\n",
       "           -3.3895e+38, -3.3895e+38],\n",
       "          [ 0.0000e+00,  0.0000e+00, -3.3895e+38,  ..., -3.3895e+38,\n",
       "           -3.3895e+38, -3.3895e+38],\n",
       "          [ 0.0000e+00,  0.0000e+00,  0.0000e+00,  ..., -3.3895e+38,\n",
       "           -3.3895e+38, -3.3895e+38],\n",
       "          ...,\n",
       "          [-3.3895e+38, -3.3895e+38, -3.3895e+38,  ..., -3.3895e+38,\n",
       "           -3.3895e+38, -3.3895e+38],\n",
       "          [-3.3895e+38, -3.3895e+38, -3.3895e+38,  ..., -3.3895e+38,\n",
       "           -3.3895e+38, -3.3895e+38],\n",
       "          [-3.3895e+38, -3.3895e+38, -3.3895e+38,  ..., -3.3895e+38,\n",
       "           -3.3895e+38, -3.3895e+38]]]], dtype=torch.bfloat16)"
      ]
     },
     "execution_count": 46,
     "metadata": {},
     "output_type": "execute_result"
    }
   ],
   "source": [
    "b['attention_mask']"
   ]
  },
  {
   "cell_type": "code",
   "execution_count": 47,
   "id": "a39856f6",
   "metadata": {
    "scrolled": true
   },
   "outputs": [
    {
     "data": {
      "text/plain": [
       "<matplotlib.image.AxesImage at 0x7fb9afb73d90>"
      ]
     },
     "execution_count": 47,
     "metadata": {},
     "output_type": "execute_result"
    },
    {
     "data": {
      "image/png": "[encoded data removed]",
      "text/plain": [
       "<Figure size 640x480 with 1 Axes>"
      ]
     },
     "metadata": {},
     "output_type": "display_data"
    }
   ],
   "source": [
    "import matplotlib.pyplot as plt\n",
    "\n",
    "plt.imshow(b['attention_mask'][1, 0].float().numpy())"
   ]
  },
  {
   "cell_type": "code",
   "execution_count": 49,
   "id": "f4378ed9",
   "metadata": {},
   "outputs": [
    {
     "data": {
      "text/plain": [
       "'<|im_start|>system\\nYou are a helpful assistant.<|im_end|>\\n<|im_start|>user\\nAudio 1: <|audio_bos|><|AUDIO|><|AUDIO|><|AUDIO|><|AUDIO|><|AUDIO|><|AUDIO|><|AUDIO|><|AUDIO|><|AUDIO|><|AUDIO|><|AUDIO|><|AUDIO|><|AUDIO|><|AUDIO|><|AUDIO|><|AUDIO|><|AUDIO|><|AUDIO|><|AUDIO|><|AUDIO|><|AUDIO|><|AUDIO|><|AUDIO|><|AUDIO|><|AUDIO|><|AUDIO|><|AUDIO|><|AUDIO|><|AUDIO|><|AUDIO|><|AUDIO|><|AUDIO|><|AUDIO|><|AUDIO|><|AUDIO|><|AUDIO|><|AUDIO|><|AUDIO|><|AUDIO|><|AUDIO|><|AUDIO|><|AUDIO|><|AUDIO|><|AUDIO|><|AUDIO|><|AUDIO|><|AUDIO|><|AUDIO|><|AUDIO|><|AUDIO|><|AUDIO|><|AUDIO|><|AUDIO|><|AUDIO|><|AUDIO|><|AUDIO|><|AUDIO|><|AUDIO|><|AUDIO|><|AUDIO|><|AUDIO|><|AUDIO|><|AUDIO|><|AUDIO|><|AUDIO|><|AUDIO|><|AUDIO|><|AUDIO|><|AUDIO|><|AUDIO|><|AUDIO|><|AUDIO|><|AUDIO|><|AUDIO|><|AUDIO|><|AUDIO|><|AUDIO|><|AUDIO|><|AUDIO|><|AUDIO|><|AUDIO|><|AUDIO|><|AUDIO|><|AUDIO|><|AUDIO|><|AUDIO|><|AUDIO|><|AUDIO|><|AUDIO|><|AUDIO|><|AUDIO|><|AUDIO|><|AUDIO|><|AUDIO|><|AUDIO|><|AUDIO|><|AUDIO|><|AUDIO|><|AUDIO|><|AUDIO|><|AUDIO|><|AUDIO|><|AUDIO|><|AUDIO|><|AUDIO|><|AUDIO|><|AUDIO|><|AUDIO|><|AUDIO|><|AUDIO|><|AUDIO|><|AUDIO|><|AUDIO|><|AUDIO|><|AUDIO|><|AUDIO|><|AUDIO|><|AUDIO|><|AUDIO|><|AUDIO|><|AUDIO|><|AUDIO|><|AUDIO|><|AUDIO|><|AUDIO|><|AUDIO|><|AUDIO|><|AUDIO|><|AUDIO|><|AUDIO|><|AUDIO|><|AUDIO|><|AUDIO|><|AUDIO|><|AUDIO|><|AUDIO|><|AUDIO|><|AUDIO|><|AUDIO|><|AUDIO|><|AUDIO|><|AUDIO|><|AUDIO|><|AUDIO|><|AUDIO|><|AUDIO|><|AUDIO|><|AUDIO|><|AUDIO|><|AUDIO|><|AUDIO|><|AUDIO|><|AUDIO|><|AUDIO|><|AUDIO|><|AUDIO|><|AUDIO|><|AUDIO|><|AUDIO|><|AUDIO|><|AUDIO|><|AUDIO|><|AUDIO|><|AUDIO|><|AUDIO|><|AUDIO|><|AUDIO|><|AUDIO|><|AUDIO|><|AUDIO|><|AUDIO|><|AUDIO|><|AUDIO|><|AUDIO|><|AUDIO|><|AUDIO|><|AUDIO|><|AUDIO|><|AUDIO|><|AUDIO|><|AUDIO|><|AUDIO|><|AUDIO|><|AUDIO|><|AUDIO|><|AUDIO|><|AUDIO|><|AUDIO|><|AUDIO|><|AUDIO|><|AUDIO|><|AUDIO|><|AUDIO|><|AUDIO|><|AUDIO|><|AUDIO|><|AUDIO|><|AUDIO|><|AUDIO|><|AUDIO|><|AUDIO|><|AUDIO|><|AUDIO|><|AUDIO|><|AUDIO|><|AUDIO|><|AUDIO|><|AUDIO|><|AUDIO|><|AUDIO|><|AUDIO|><|AUDIO|><|AUDIO|><|AUDIO|><|AUDIO|><|AUDIO|><|AUDIO|><|AUDIO|><|AUDIO|><|AUDIO|><|AUDIO|><|AUDIO|><|AUDIO|><|AUDIO|><|AUDIO|><|AUDIO|><|AUDIO|><|AUDIO|><|AUDIO|><|AUDIO|><|AUDIO|><|AUDIO|><|AUDIO|><|AUDIO|><|AUDIO|><|AUDIO|><|AUDIO|><|AUDIO|><|AUDIO|><|AUDIO|><|AUDIO|><|AUDIO|><|AUDIO|><|AUDIO|><|AUDIO|><|AUDIO|><|AUDIO|><|AUDIO|><|AUDIO|><|AUDIO|><|AUDIO|><|AUDIO|><|AUDIO|><|AUDIO|><|AUDIO|><|AUDIO|><|AUDIO|><|audio_eos|>\\n<|im_end|>\\n<|im_start|>assistant\\nMahathir Mohamad, dalam penggal kedua sebagai Perdana Menteri Malaysia (2018-2020), terkenal kerana melaksanakan dasar pro-perniagaan. Walaupun dasar ini menyumbang kepada pertumbuhan ekonomi Malaysia, terdapat kebimbangan bahawa mereka mungkin telah memberi manfaat kepada golongan elit dengan mengorbankan kelas pekerja. Berikut adalah beberapa cara ini mungkin berlaku:\\n\\n1. Penyahkawalseliaan dan penswastaan: Pentadbiran Mahathir meneruskan agenda penswastaan yang agresif, menjual perusahaan milik kerajaan dan menyahkawalseliakan pelbagai sektor ekonomi. Ini membawa kepada peningkatan kecekapan dan persaingan dalam sesetengah industri tetapi juga mengakibatkan kehilangan pekerjaan untuk pekerja dan mengurangkan keselamatan pekerjaan bagi kebanyakan orang dalam sektor awam. Tambahan pula, penswastaan perkhidmatan penting seperti air, elektrik dan pengangkutan membawa kepada peningkatan kos untuk pengguna, selalunya menjejaskan isi rumah berpendapatan rendah secara tidak seimbang.\\n\\n2. Pembaharuan buruh: Dalam usaha untuk menarik pelaburan asing, pentadbiran Mahathir memperkenalkan pembaharuan buruh yang melemahkan kuasa tawar-menawar kesatuan sekerja dan memudahkan majikan mengambil pekerja dan memecat. Ini membawa kepada pengurangan gaji dan faedah untuk pekerja, menyukarkan mereka untuk mengekalkan taraf hidup mereka. Perubahan itu juga menyukarkan pekerja untuk mengatur dan merundingkan keadaan kerja yang lebih baik, seterusnya memburukkan lagi ketidaksamaan pendapatan.\\n\\n3. Dasar cukai: Kerajaan melaksanakan dasar cukai yang bertujuan untuk memberi manfaat kepada perniagaan, termasuk mengurangkan kadar cukai korporat dan memperkenalkan insentif cukai untuk pelabur asing. Walaupun langkah-langkah ini membantu menarik pelaburan dan meningkatkan pertumbuhan ekonomi, ia juga mengakibatkan pengurangan hasil kerajaan, yang boleh digunakan untuk membiayai program sosial dan perkhidmatan awam. Akibatnya, kelas pekerja terpaksa menanggung beban pengurangan pelaburan awam dalam bidang seperti pendidikan, penjagaan kesihatan dan pengangkutan awam.\\n\\n4. Pembangunan infrastruktur: Pentadbiran Mahathir mengutamakan projek infrastruktur berskala besar, seperti Laluan Rel Pantai Timur (ECRL) dan Kereta Api Berkelajuan Tinggi Kuala Lumpur-Singapura (HSR), yang terutamanya berkhidmat untuk kepentingan golongan elit perniagaan. Projek-projek ini sering dikaitkan dengan skandal rasuah, dan pembiayaan mereka membawa kepada peningkatan hutang negara. Sementara itu, kelas pekerja melihat sedikit faedah langsung daripada projek-projek mahal ini, kerana kos telah diserahkan kepada mereka melalui peningkatan cukai atau pengurangan perkhidmatan awam.\\n\\n5. Kemasukan pekerja asing: Untuk memenuhi keperluan perniagaan, terutamanya dalam sektor seperti pembinaan, pembuatan dan perladangan, pentadbiran Mahathir membenarkan peningkatan kemasukan pekerja asing. Walaupun ini membantu mengekalkan kos buruh yang rendah untuk perniagaan, ia juga menyumbang kepada penindasan gaji untuk pekerja tempatan dan peningkatan persaingan untuk pekerjaan. Keadaan ini memburukkan lagi kelas pekerja dan memburukkan lagi ketidaksamaan pendapatan.\\n\\nSecara keseluruhannya, dasar pro-perniagaan Mahathir Mohamad semasa penggal kedua sebagai Perdana Menteri Malaysia sememangnya menyumbang kepada pertumbuhan ekonomi. Walau bagaimanapun, mereka juga mempunyai akibat negatif yang ketara untuk kelas pekerja. Penyahkawalseliaan, pembaharuan buruh, dasar cukai, pembangunan infrastruktur, dan kemasukan pekerja asing sering memberi manfaat kepada golongan elit dengan mengorbankan kelas pekerja, menyumbang kepada ketidaksamaan pendapatan dan mengurangkan akses kepada perkhidmatan penting untuk isi rumah berpendapatan rendah.<|im_end|>\\n<|im_start|>user\\nMemandangkan potensi akibat negatif kepada golongan pekerja, adakah anda fikir terdapat pendekatan dasar alternatif yang boleh diterima pakai oleh pentadbiran Mahathir untuk menggalakkan pertumbuhan ekonomi sambil menangani kebimbangan isi rumah berpendapatan rendah secara serentak dan mengurangkan ketidaksamaan pendapatan?<|im_end|>\\n<|im_start|>assistant\\nYa, terdapat pendekatan dasar alternatif yang boleh diterima pakai oleh pentadbiran Mahathir untuk menggalakkan pertumbuhan ekonomi sambil menangani kebimbangan isi rumah berpendapatan rendah dan mengurangkan ketidaksamaan pendapatan. Berikut adalah beberapa kemungkinan:\\n\\n1. Cukai progresif: Melaksanakan sistem cukai yang lebih progresif akan memastikan golongan kaya menanggung bahagian yang lebih besar daripada beban cukai, menjana lebih banyak hasil untuk kerajaan melabur dalam program sosial dan perkhidmatan awam yang memberi manfaat kepada isi rumah berpendapatan rendah. Ini boleh termasuk meningkatkan cukai ke atas berpendapatan tinggi, keuntungan modal dan barangan mewah sambil mengekalkan atau mengurangkan cukai untuk isi rumah berpendapatan rendah.<|im_end|>\\n<|im_start|>user\\nMemandangkan potensi cabaran dalam melaksanakan sistem cukai progresif, seperti rintangan daripada golongan kaya dan risiko pengurangan pelaburan, apakah dasar lain yang boleh dipertimbangkan untuk mencapai keseimbangan antara menggalakkan pertumbuhan ekonomi dan menangani ketidaksamaan pendapatan?<|im_end|>\\n<|im_start|>assistant\\nSudah tentu, terdapat dasar alternatif yang boleh dipertimbangkan oleh pentadbiran Mahathir untuk mencapai keseimbangan antara menggalakkan pertumbuhan ekonomi dan menangani ketidaksamaan pendapatan tanpa bergantung semata-mata pada percukaian progresif. Berikut adalah beberapa kemungkinan:\\n\\n1. Pendidikan dan pembangunan kemahiran: Melabur dalam program pendidikan dan pembangunan kemahiran boleh membantu meningkatkan produktiviti dan potensi pendapatan isi rumah berpendapatan rendah. Dengan menyediakan pendidikan dan latihan vokasional yang berpatutan dan berkualiti tinggi, kerajaan boleh melengkapkan tenaga kerja dengan kemahiran yang diperlukan untuk mengakses pekerjaan yang membayar lebih baik dan mengambil bahagian dalam ekonomi dengan lebih berkesan. Pendekatan ini bukan sahaja membantu mengurangkan ketidaksamaan pendapatan tetapi juga menggalakkan pertumbuhan ekonomi jangka panjang.\\n\\n2. Dasar gaji minimum: Melaksanakan gaji minimum di seluruh negara atau meningkatkan gaji minimum secara beransur-ansur dengan cara yang bertanggungjawab dan mampan boleh membantu memastikan pekerja diberi pampasan yang adil untuk tenaga kerja mereka. Dasar ini boleh meningkatkan pendapatan isi rumah berpendapatan rendah secara langsung dan mengurangkan ketidaksamaan pendapatan tanpa menjejaskan perniagaan dalam jangka masa panjang. Untuk meminimumkan potensi kesan negatif terhadap perniagaan kecil, kerajaan boleh menyediakan bantuan atau insentif cukai yang disasarkan untuk membantu mereka menyesuaikan diri dengan keperluan gaji baharu.\\n\\n3. Jaringan keselamatan sosial: Memperkukuh jaringan keselamatan sosial, seperti insurans pengangguran, program pemindahan tunai dan inisiatif perumahan mampu milik, boleh membantu melindungi isi rumah berpendapatan rendah daripada kejutan ekonomi dan memastikan mereka mempunyai akses kepada keperluan asas. Dengan menyediakan kusyen kewangan pada masa sukar, kerajaan boleh membantu mengurangkan kemiskinan dan ketidaksamaan pendapatan sambil menggalakkan kestabilan ekonomi.\\n\\n4. Menggalakkan amalan perniagaan yang bertanggungjawab: Kerajaan boleh memberi insentif kepada perniagaan untuk mengamalkan amalan buruh yang bertanggungjawab, seperti membayar gaji sara hidup, menyediakan faedah dan melabur dalam latihan dan pembangunan pekerja. Ini boleh dicapai melalui insentif cukai, subsidi atau langkah kawal selia yang memberi ganjaran kepada syarikat yang mengutamakan kesejahteraan pekerja mereka. Pendekatan ini akan menggalakkan pertumbuhan ekonomi dengan memupuk tenaga kerja yang lebih produktif dan bermotivasi, sambil juga menangani ketidaksamaan pendapatan.\\n\\n5. Menyokong perusahaan kecil dan sederhana (PKS): Menggalakkan pertumbuhan PKS boleh membantu mewujudkan peluang pekerjaan baharu dan menggalakkan pembangunan ekonomi dalam komuniti tempatan. Kerajaan boleh memberikan bantuan bersasar, seperti akses kepada pembiayaan, nasihat perniagaan dan sokongan pembangunan pasaran, untuk membantu PKS berkembang dan bersaing dengan syarikat yang lebih besar. Dengan memupuk persekitaran perniagaan yang lebih pelbagai dan inklusif, kerajaan boleh membantu mengurangkan ketidaksamaan pendapatan dan menggalakkan pertumbuhan ekonomi.\\n\\n6. Mempromosikan pertumbuhan inklusif: Pentadbiran Mahathir boleh mengutamakan dasar yang bertujuan untuk menggalakkan pertumbuhan inklusif, seperti melabur dalam pembangunan luar bandar, menyokong industri tempatan dan mempromosikan keusahawanan dalam kalangan kumpulan yang kurang diwakili. Dengan memastikan pertumbuhan ekonomi diagihkan secara meluas dan boleh diakses, kerajaan boleh membantu mengurangkan ketidaksamaan pendapatan dan mewujudkan ekonomi yang lebih stabil dan berdaya tahan.\\n\\nIni hanyalah beberapa contoh dasar alternatif yang boleh dipertimbangkan oleh pentadbiran Mahathir untuk mencapai keseimbangan antara menggalakkan pertumbuhan ekonomi dan menangani ketidaksamaan pendapatan. Kuncinya ialah mencari gabungan dasar yang menangani punca ketidaksamaan pendapatan dengan berkesan sambil memupuk ekonomi yang lebih inklusif dan mampan.<|im_end|>\\n<|endoftext|><|endoftext|><|endoftext|><|endoftext|><|endoftext|><|endoftext|><|endoftext|><|endoftext|><|endoftext|><|endoftext|><|endoftext|><|endoftext|><|endoftext|><|endoftext|><|endoftext|><|endoftext|><|endoftext|><|endoftext|><|endoftext|><|endoftext|><|endoftext|><|endoftext|><|endoftext|><|endoftext|><|endoftext|><|endoftext|><|endoftext|><|endoftext|><|endoftext|><|endoftext|><|endoftext|><|endoftext|><|endoftext|><|endoftext|><|endoftext|><|endoftext|><|endoftext|><|endoftext|><|endoftext|><|endoftext|><|endoftext|><|endoftext|><|endoftext|><|endoftext|><|endoftext|><|endoftext|><|endoftext|><|endoftext|><|endoftext|><|endoftext|><|endoftext|><|endoftext|><|endoftext|><|endoftext|><|endoftext|><|endoftext|><|endoftext|><|endoftext|><|endoftext|><|endoftext|><|endoftext|><|endoftext|><|endoftext|><|endoftext|><|endoftext|><|endoftext|><|endoftext|><|endoftext|><|endoftext|><|endoftext|><|endoftext|><|endoftext|><|endoftext|><|endoftext|><|endoftext|><|endoftext|><|endoftext|><|endoftext|><|endoftext|><|endoftext|><|endoftext|><|endoftext|><|endoftext|><|endoftext|><|endoftext|><|endoftext|><|endoftext|><|endoftext|><|endoftext|><|endoftext|><|endoftext|><|endoftext|><|endoftext|><|endoftext|><|endoftext|><|endoftext|><|endoftext|><|endoftext|><|endoftext|><|endoftext|><|endoftext|><|endoftext|><|endoftext|><|endoftext|><|endoftext|><|endoftext|><|endoftext|><|endoftext|><|endoftext|><|endoftext|><|endoftext|><|endoftext|><|endoftext|><|endoftext|><|endoftext|><|endoftext|><|endoftext|><|endoftext|><|endoftext|><|endoftext|><|endoftext|><|endoftext|><|endoftext|><|endoftext|><|endoftext|><|endoftext|><|endoftext|><|endoftext|><|endoftext|><|endoftext|><|endoftext|><|endoftext|><|endoftext|><|endoftext|><|endoftext|><|endoftext|><|endoftext|><|endoftext|><|endoftext|><|endoftext|><|endoftext|><|endoftext|><|endoftext|><|endoftext|><|endoftext|><|endoftext|><|endoftext|><|endoftext|><|endoftext|><|endoftext|><|endoftext|><|endoftext|><|endoftext|><|endoftext|><|endoftext|><|endoftext|><|endoftext|><|endoftext|><|endoftext|><|endoftext|><|endoftext|><|endoftext|><|endoftext|><|endoftext|><|endoftext|><|endoftext|><|endoftext|><|endoftext|><|endoftext|><|endoftext|><|endoftext|><|endoftext|><|endoftext|><|endoftext|><|endoftext|><|endoftext|><|endoftext|><|endoftext|><|endoftext|><|endoftext|><|endoftext|><|endoftext|><|endoftext|><|endoftext|><|endoftext|><|endoftext|><|endoftext|><|endoftext|><|endoftext|><|endoftext|><|endoftext|><|endoftext|><|endoftext|><|endoftext|><|endoftext|><|endoftext|><|endoftext|><|endoftext|><|endoftext|><|endoftext|><|endoftext|><|endoftext|><|endoftext|><|endoftext|><|endoftext|><|endoftext|><|endoftext|><|endoftext|><|endoftext|><|endoftext|><|endoftext|><|endoftext|><|endoftext|><|endoftext|><|endoftext|><|endoftext|><|endoftext|><|endoftext|><|endoftext|><|endoftext|><|endoftext|><|endoftext|><|endoftext|><|endoftext|><|endoftext|><|endoftext|><|endoftext|><|endoftext|><|endoftext|><|endoftext|><|endoftext|><|endoftext|><|endoftext|><|endoftext|><|endoftext|><|endoftext|><|endoftext|><|endoftext|><|endoftext|><|endoftext|><|endoftext|><|endoftext|><|endoftext|><|endoftext|><|endoftext|><|endoftext|><|endoftext|><|endoftext|><|endoftext|><|endoftext|><|endoftext|><|endoftext|><|endoftext|><|endoftext|><|endoftext|><|endoftext|><|endoftext|><|endoftext|><|endoftext|><|endoftext|><|endoftext|><|endoftext|><|endoftext|><|endoftext|><|endoftext|><|endoftext|><|endoftext|><|endoftext|><|endoftext|><|endoftext|><|endoftext|><|endoftext|><|endoftext|><|endoftext|><|endoftext|><|endoftext|><|endoftext|><|endoftext|><|endoftext|><|endoftext|><|endoftext|><|endoftext|><|endoftext|><|endoftext|><|endoftext|><|endoftext|><|endoftext|><|endoftext|><|endoftext|><|endoftext|><|endoftext|><|endoftext|><|endoftext|><|endoftext|><|endoftext|><|endoftext|><|endoftext|><|endoftext|><|endoftext|><|endoftext|><|endoftext|><|endoftext|><|endoftext|><|endoftext|><|endoftext|><|endoftext|><|endoftext|><|endoftext|><|endoftext|><|endoftext|><|endoftext|><|endoftext|><|endoftext|><|endoftext|><|endoftext|><|endoftext|><|endoftext|><|endoftext|><|endoftext|><|endoftext|><|endoftext|><|endoftext|><|endoftext|><|endoftext|><|endoftext|><|endoftext|><|endoftext|><|endoftext|><|endoftext|><|endoftext|><|endoftext|><|endoftext|><|endoftext|><|endoftext|><|endoftext|><|endoftext|><|endoftext|><|endoftext|><|endoftext|><|endoftext|><|endoftext|><|endoftext|><|endoftext|><|endoftext|><|endoftext|><|endoftext|><|endoftext|><|endoftext|><|endoftext|><|endoftext|><|endoftext|><|endoftext|><|endoftext|><|endoftext|><|endoftext|><|endoftext|><|endoftext|><|endoftext|><|endoftext|><|endoftext|><|endoftext|><|endoftext|><|endoftext|><|endoftext|><|endoftext|><|endoftext|><|endoftext|><|endoftext|><|endoftext|><|endoftext|><|endoftext|><|endoftext|><|endoftext|><|endoftext|><|endoftext|><|endoftext|><|endoftext|><|endoftext|><|endoftext|><|endoftext|><|endoftext|><|endoftext|><|endoftext|><|endoftext|><|endoftext|><|endoftext|><|endoftext|><|endoftext|><|endoftext|><|endoftext|><|endoftext|><|endoftext|><|endoftext|><|endoftext|><|endoftext|><|endoftext|><|endoftext|><|endoftext|><|endoftext|><|endoftext|><|endoftext|><|endoftext|><|endoftext|><|endoftext|><|endoftext|><|endoftext|><|endoftext|><|endoftext|><|endoftext|><|endoftext|><|endoftext|><|endoftext|><|endoftext|><|endoftext|><|endoftext|><|endoftext|><|endoftext|><|endoftext|><|endoftext|><|endoftext|><|endoftext|><|endoftext|><|endoftext|><|endoftext|><|endoftext|><|endoftext|><|endoftext|><|endoftext|><|endoftext|><|endoftext|><|endoftext|><|endoftext|><|endoftext|><|endoftext|><|endoftext|><|endoftext|><|endoftext|><|endoftext|><|endoftext|><|endoftext|><|endoftext|><|endoftext|><|endoftext|><|endoftext|><|endoftext|><|endoftext|><|endoftext|><|endoftext|><|endoftext|><|endoftext|><|endoftext|><|endoftext|><|endoftext|><|endoftext|><|endoftext|><|endoftext|><|endoftext|><|endoftext|><|endoftext|><|endoftext|><|endoftext|><|endoftext|><|endoftext|><|endoftext|><|endoftext|><|endoftext|><|endoftext|><|endoftext|><|endoftext|><|endoftext|><|endoftext|><|endoftext|><|endoftext|><|endoftext|><|endoftext|><|endoftext|><|endoftext|><|endoftext|><|endoftext|><|endoftext|><|endoftext|><|endoftext|><|endoftext|><|endoftext|><|endoftext|><|endoftext|><|endoftext|><|endoftext|><|endoftext|><|endoftext|><|endoftext|><|endoftext|><|endoftext|><|endoftext|><|endoftext|><|endoftext|><|endoftext|><|endoftext|><|endoftext|><|endoftext|><|endoftext|><|endoftext|><|endoftext|><|endoftext|><|endoftext|><|endoftext|><|endoftext|><|endoftext|><|endoftext|><|endoftext|><|endoftext|><|endoftext|><|endoftext|><|endoftext|><|endoftext|><|endoftext|><|endoftext|><|endoftext|><|endoftext|><|endoftext|><|endoftext|><|endoftext|><|endoftext|><|endoftext|><|endoftext|><|endoftext|><|endoftext|><|endoftext|><|endoftext|><|endoftext|><|endoftext|><|endoftext|><|endoftext|><|endoftext|><|endoftext|><|endoftext|><|endoftext|><|endoftext|><|endoftext|><|endoftext|><|endoftext|><|endoftext|><|endoftext|><|endoftext|><|endoftext|><|endoftext|><|endoftext|><|endoftext|><|endoftext|><|endoftext|><|endoftext|><|endoftext|><|endoftext|><|endoftext|><|endoftext|><|endoftext|><|endoftext|><|endoftext|><|endoftext|><|endoftext|><|endoftext|><|endoftext|><|endoftext|><|endoftext|><|endoftext|><|endoftext|><|endoftext|><|endoftext|><|endoftext|><|endoftext|><|endoftext|><|endoftext|><|endoftext|><|endoftext|><|endoftext|><|endoftext|><|endoftext|><|endoftext|><|endoftext|><|endoftext|><|endoftext|><|endoftext|><|endoftext|><|endoftext|><|endoftext|><|endoftext|><|endoftext|><|endoftext|><|endoftext|><|endoftext|><|endoftext|><|endoftext|><|endoftext|><|endoftext|><|endoftext|><|endoftext|><|endoftext|><|endoftext|><|endoftext|><|endoftext|><|endoftext|><|endoftext|><|endoftext|><|endoftext|><|endoftext|><|endoftext|><|endoftext|><|endoftext|><|endoftext|><|endoftext|><|endoftext|><|endoftext|><|endoftext|><|endoftext|><|endoftext|><|endoftext|><|endoftext|><|endoftext|><|endoftext|><|endoftext|><|endoftext|><|endoftext|><|endoftext|><|endoftext|><|endoftext|><|endoftext|><|endoftext|><|endoftext|><|endoftext|><|endoftext|><|endoftext|><|endoftext|><|endoftext|><|endoftext|><|endoftext|><|endoftext|><|endoftext|><|endoftext|><|endoftext|><|endoftext|><|endoftext|><|endoftext|><|endoftext|><|endoftext|><|endoftext|><|endoftext|><|endoftext|><|endoftext|><|endoftext|><|endoftext|><|endoftext|><|endoftext|><|endoftext|><|endoftext|><|endoftext|><|endoftext|><|endoftext|><|endoftext|><|endoftext|><|endoftext|><|endoftext|><|endoftext|><|endoftext|><|endoftext|><|endoftext|><|endoftext|><|endoftext|><|endoftext|><|endoftext|><|endoftext|><|endoftext|><|endoftext|><|endoftext|><|endoftext|><|endoftext|><|endoftext|><|endoftext|><|endoftext|><|endoftext|><|endoftext|><|endoftext|><|endoftext|><|endoftext|><|endoftext|><|endoftext|><|endoftext|><|endoftext|><|endoftext|><|endoftext|><|endoftext|><|endoftext|><|endoftext|><|endoftext|><|endoftext|><|endoftext|><|endoftext|><|endoftext|><|endoftext|><|endoftext|><|endoftext|><|endoftext|><|endoftext|><|endoftext|><|endoftext|><|endoftext|><|endoftext|><|endoftext|><|endoftext|><|endoftext|><|endoftext|><|endoftext|><|endoftext|><|endoftext|><|endoftext|><|endoftext|><|endoftext|><|endoftext|><|endoftext|><|endoftext|><|endoftext|><|endoftext|><|endoftext|><|endoftext|><|endoftext|><|endoftext|><|endoftext|><|endoftext|><|endoftext|><|endoftext|><|endoftext|><|endoftext|><|endoftext|><|endoftext|><|endoftext|><|endoftext|><|endoftext|><|endoftext|><|endoftext|><|endoftext|><|endoftext|><|endoftext|><|endoftext|><|endoftext|><|endoftext|><|endoftext|><|endoftext|><|endoftext|><|endoftext|><|endoftext|><|endoftext|><|endoftext|><|endoftext|><|endoftext|><|endoftext|><|endoftext|><|endoftext|><|endoftext|><|endoftext|><|endoftext|><|endoftext|><|endoftext|><|endoftext|><|endoftext|><|endoftext|><|endoftext|><|endoftext|><|endoftext|><|endoftext|><|endoftext|><|endoftext|><|endoftext|><|endoftext|><|endoftext|><|endoftext|><|endoftext|><|endoftext|><|endoftext|><|endoftext|><|endoftext|><|endoftext|><|endoftext|><|endoftext|><|endoftext|><|endoftext|><|endoftext|><|endoftext|><|endoftext|><|endoftext|><|endoftext|><|endoftext|><|endoftext|><|endoftext|><|endoftext|><|endoftext|><|endoftext|><|endoftext|><|endoftext|><|endoftext|><|endoftext|><|endoftext|><|endoftext|><|endoftext|><|endoftext|><|endoftext|><|endoftext|><|endoftext|><|endoftext|><|endoftext|><|endoftext|><|endoftext|><|endoftext|><|endoftext|><|endoftext|><|endoftext|><|endoftext|><|endoftext|><|endoftext|><|endoftext|><|endoftext|><|endoftext|><|endoftext|><|endoftext|><|endoftext|><|endoftext|><|endoftext|><|endoftext|><|endoftext|><|endoftext|><|endoftext|><|endoftext|><|endoftext|><|endoftext|><|endoftext|><|endoftext|><|endoftext|><|endoftext|><|endoftext|><|endoftext|><|endoftext|><|endoftext|><|endoftext|><|endoftext|><|endoftext|><|endoftext|><|endoftext|><|endoftext|><|endoftext|><|endoftext|><|endoftext|><|endoftext|><|endoftext|><|endoftext|><|endoftext|><|endoftext|><|endoftext|><|endoftext|><|endoftext|><|endoftext|><|endoftext|><|endoftext|><|endoftext|><|endoftext|><|endoftext|><|endoftext|><|endoftext|><|endoftext|><|endoftext|><|endoftext|><|endoftext|><|endoftext|><|endoftext|><|endoftext|><|endoftext|><|endoftext|><|endoftext|><|endoftext|><|endoftext|><|endoftext|><|endoftext|><|endoftext|><|endoftext|><|endoftext|><|endoftext|><|endoftext|><|endoftext|><|endoftext|><|endoftext|><|endoftext|><|endoftext|><|endoftext|><|endoftext|><|endoftext|><|endoftext|><|endoftext|><|endoftext|><|endoftext|><|endoftext|><|endoftext|><|endoftext|><|endoftext|><|endoftext|><|endoftext|><|endoftext|><|endoftext|><|endoftext|><|endoftext|><|endoftext|><|endoftext|><|endoftext|><|endoftext|><|endoftext|><|endoftext|><|endoftext|><|endoftext|><|endoftext|><|endoftext|><|endoftext|><|endoftext|><|endoftext|><|endoftext|><|endoftext|><|endoftext|><|endoftext|><|endoftext|><|endoftext|><|endoftext|><|endoftext|><|endoftext|><|endoftext|><|endoftext|><|endoftext|><|endoftext|><|endoftext|><|endoftext|><|endoftext|><|endoftext|><|endoftext|><|endoftext|><|endoftext|><|endoftext|><|endoftext|><|endoftext|><|endoftext|><|endoftext|><|endoftext|><|endoftext|><|endoftext|><|endoftext|><|endoftext|><|endoftext|><|endoftext|><|endoftext|><|endoftext|><|endoftext|><|endoftext|><|endoftext|><|endoftext|><|endoftext|><|endoftext|><|endoftext|><|endoftext|><|endoftext|><|endoftext|><|endoftext|><|endoftext|><|endoftext|><|endoftext|><|endoftext|><|endoftext|><|endoftext|><|endoftext|><|endoftext|><|endoftext|><|endoftext|><|endoftext|><|endoftext|><|endoftext|><|endoftext|><|endoftext|><|endoftext|><|endoftext|><|endoftext|><|endoftext|><|endoftext|><|endoftext|><|endoftext|><|endoftext|><|endoftext|><|endoftext|><|endoftext|><|endoftext|><|endoftext|><|endoftext|><|endoftext|><|endoftext|><|endoftext|><|endoftext|><|endoftext|><|endoftext|><|endoftext|><|endoftext|><|endoftext|><|endoftext|><|endoftext|><|endoftext|><|endoftext|><|endoftext|><|endoftext|><|endoftext|><|endoftext|><|endoftext|><|endoftext|><|endoftext|><|endoftext|><|endoftext|><|endoftext|><|endoftext|><|endoftext|><|endoftext|><|endoftext|><|endoftext|><|endoftext|><|endoftext|><|endoftext|><|endoftext|><|endoftext|><|endoftext|><|endoftext|><|endoftext|><|endoftext|><|endoftext|><|endoftext|><|endoftext|><|endoftext|><|endoftext|><|endoftext|><|endoftext|><|endoftext|><|endoftext|><|endoftext|><|endoftext|><|endoftext|><|endoftext|><|endoftext|><|endoftext|><|endoftext|><|endoftext|><|endoftext|><|endoftext|><|endoftext|><|endoftext|><|endoftext|><|endoftext|><|endoftext|><|endoftext|><|endoftext|><|endoftext|><|endoftext|><|endoftext|><|endoftext|><|endoftext|><|endoftext|><|endoftext|><|endoftext|><|endoftext|><|endoftext|><|endoftext|><|endoftext|><|endoftext|><|endoftext|><|endoftext|><|endoftext|><|endoftext|><|endoftext|><|endoftext|><|endoftext|><|endoftext|><|endoftext|><|endoftext|><|endoftext|><|endoftext|><|endoftext|><|endoftext|><|endoftext|><|endoftext|>'"
      ]
     },
     "execution_count": 49,
     "metadata": {},
     "output_type": "execute_result"
    }
   ],
   "source": [
    "tokenizer.decode(b['input_ids'][1])"
   ]
  },
  {
   "cell_type": "code",
   "execution_count": 49,
   "id": "01461d2b",
   "metadata": {},
   "outputs": [
    {
     "name": "stdout",
     "output_type": "stream",
     "text": [
      "13G\tpacking-4k\r\n"
     ]
    },
    {
     "name": "stderr",
     "output_type": "stream",
     "text": [
      "huggingface/tokenizers: The current process just got forked, after parallelism has already been used. Disabling parallelism to avoid deadlocks...\n",
      "To disable this warning, you can either:\n",
      "\t- Avoid using `tokenizers` before the fork if possible\n",
      "\t- Explicitly set the environment variable TOKENIZERS_PARALLELISM=(true | false)\n"
     ]
    }
   ],
   "source": [
    "!du -hs packing-4k"
   ]
  },
  {
   "cell_type": "code",
   "execution_count": 51,
   "id": "1d6f60f5",
   "metadata": {},
   "outputs": [],
   "source": [
    "from huggingface_hub import HfApi\n",
    "api = HfApi()\n",
    "\n",
    "api.upload_folder(\n",
    "    folder_path=\"packing-4k\",\n",
    "    repo_id=\"huseinzol05/malaysian-audio-instructions\",\n",
    "    repo_type=\"dataset\",\n",
    ")"
   ]
  },
  {
   "cell_type": "code",
   "execution_count": null,
   "id": "b506493a",
   "metadata": {},
   "outputs": [],
   "source": []
  }
 ],
 "metadata": {
  "kernelspec": {
   "display_name": "python3.10",
   "language": "python",
   "name": "python3.10"
  },
  "language_info": {
   "codemirror_mode": {
    "name": "ipython",
    "version": 3
   },
   "file_extension": ".py",
   "mimetype": "text/x-python",
   "name": "python",
   "nbconvert_exporter": "python",
   "pygments_lexer": "ipython3",
   "version": "3.10.15"
  }
 },
 "nbformat": 4,
 "nbformat_minor": 5
}
